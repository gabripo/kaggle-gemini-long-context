{
 "cells": [
  {
   "cell_type": "markdown",
   "id": "590b3ae6",
   "metadata": {
    "papermill": {
     "duration": 0.00866,
     "end_time": "2024-11-20T11:45:26.806030",
     "exception": false,
     "start_time": "2024-11-20T11:45:26.797370",
     "status": "completed"
    },
    "tags": []
   },
   "source": [
    "# Tender2Project\n",
    "The following Kaggle notebook exploits the long context window of Gemini, in order to fulfill the following targets:\n",
    "- Analyze the tender for a project.\n",
    "- Analyze the information about possible products, provided from different companies.\n",
    "- Find the best combination of products to build the project in the tender, identifying the most compliant company as well.\n",
    "\n",
    "## Notebook structure\n",
    "The notebook is composed by different parts, each one with a specific target:\n",
    "- A tender for a project is parsed, such that its information is converted to text.\n",
    "- Information scraped from the websites of different companies is loaded as text.\n",
    "- All the text is forwarded to Gemini, whereas a system prompt and a user prompt are written to explain the purposed o Gemini.\n",
    "\n",
    "## Theoretical aspects\n",
    "The current way to use Gemini makes use of the following properties of a LLM (Large Language Model) like Gemini:\n",
    "|  **LLM property** | **Where it is used** | **How it is used** |\n",
    "|:-----------------:|:--------------------:|:------------------:|\n",
    "|     Reasoning     |          TBD         |         TBD        |\n",
    "|       Memory      |          TBD         |         TBD        |\n",
    "| Chain of Thoughts |          TBD         |         TBD        |\n",
    "|                   |                      |                    |"
   ]
  },
  {
   "cell_type": "markdown",
   "id": "23a40a40",
   "metadata": {
    "papermill": {
     "duration": 0.00439,
     "end_time": "2024-11-20T11:45:26.815910",
     "exception": false,
     "start_time": "2024-11-20T11:45:26.811520",
     "status": "completed"
    },
    "tags": []
   },
   "source": [
    "Clean the working directory"
   ]
  },
  {
   "cell_type": "code",
   "execution_count": 1,
   "id": "f0328534",
   "metadata": {
    "execution": {
     "iopub.execute_input": "2024-11-20T11:45:26.827667Z",
     "iopub.status.busy": "2024-11-20T11:45:26.826713Z",
     "iopub.status.idle": "2024-11-20T11:45:27.842026Z",
     "shell.execute_reply": "2024-11-20T11:45:27.840874Z"
    },
    "papermill": {
     "duration": 1.024445,
     "end_time": "2024-11-20T11:45:27.844627",
     "exception": false,
     "start_time": "2024-11-20T11:45:26.820182",
     "status": "completed"
    },
    "tags": []
   },
   "outputs": [],
   "source": [
    "! rm -r /kaggle/working/*"
   ]
  },
  {
   "cell_type": "markdown",
   "id": "00ab651c",
   "metadata": {
    "papermill": {
     "duration": 0.005592,
     "end_time": "2024-11-20T11:45:27.858428",
     "exception": false,
     "start_time": "2024-11-20T11:45:27.852836",
     "status": "completed"
    },
    "tags": []
   },
   "source": [
    "# Analyze the tender"
   ]
  },
  {
   "cell_type": "markdown",
   "id": "4a522123",
   "metadata": {
    "papermill": {
     "duration": 0.003969,
     "end_time": "2024-11-20T11:45:27.866604",
     "exception": false,
     "start_time": "2024-11-20T11:45:27.862635",
     "status": "completed"
    },
    "tags": []
   },
   "source": [
    "Locate the tender document - in PDF format."
   ]
  },
  {
   "cell_type": "code",
   "execution_count": 2,
   "id": "407b3668",
   "metadata": {
    "execution": {
     "iopub.execute_input": "2024-11-20T11:45:27.876304Z",
     "iopub.status.busy": "2024-11-20T11:45:27.875987Z",
     "iopub.status.idle": "2024-11-20T11:45:29.118627Z",
     "shell.execute_reply": "2024-11-20T11:45:29.117855Z"
    },
    "papermill": {
     "duration": 1.249696,
     "end_time": "2024-11-20T11:45:29.120403",
     "exception": false,
     "start_time": "2024-11-20T11:45:27.870707",
     "status": "completed"
    },
    "tags": []
   },
   "outputs": [
    {
     "name": "stdout",
     "output_type": "stream",
     "text": [
      "--2024-11-20 11:45:28--  https://raw.githubusercontent.com/gabripo/kaggle-gemini-long-context/refs/heads/main/tender_wind.pdf\r\n",
      "Resolving raw.githubusercontent.com (raw.githubusercontent.com)... 185.199.111.133, 185.199.110.133, 185.199.108.133, ...\r\n",
      "Connecting to raw.githubusercontent.com (raw.githubusercontent.com)|185.199.111.133|:443... connected.\r\n",
      "HTTP request sent, awaiting response... 200 OK\r\n",
      "Length: 495170 (484K) [application/octet-stream]\r\n",
      "Saving to: '/kaggle/working/tender_wind.pdf'\r\n",
      "\r\n",
      "tender_wind.pdf     100%[===================>] 483.56K  --.-KB/s    in 0.03s   \r\n",
      "\r\n",
      "2024-11-20 11:45:29 (18.0 MB/s) - '/kaggle/working/tender_wind.pdf' saved [495170/495170]\r\n",
      "\r\n"
     ]
    }
   ],
   "source": [
    "!wget https://raw.githubusercontent.com/gabripo/kaggle-gemini-long-context/refs/heads/main/tender_wind.pdf -P /kaggle/working"
   ]
  },
  {
   "cell_type": "code",
   "execution_count": 3,
   "id": "ee0174c3",
   "metadata": {
    "execution": {
     "iopub.execute_input": "2024-11-20T11:45:29.130846Z",
     "iopub.status.busy": "2024-11-20T11:45:29.130504Z",
     "iopub.status.idle": "2024-11-20T11:45:29.135822Z",
     "shell.execute_reply": "2024-11-20T11:45:29.135071Z"
    },
    "papermill": {
     "duration": 0.012412,
     "end_time": "2024-11-20T11:45:29.137478",
     "exception": false,
     "start_time": "2024-11-20T11:45:29.125066",
     "status": "completed"
    },
    "tags": []
   },
   "outputs": [
    {
     "name": "stdout",
     "output_type": "stream",
     "text": [
      "The file /kaggle/working/tender_wind.pdf will be used as the tender\n"
     ]
    }
   ],
   "source": [
    "import os\n",
    "\n",
    "# if the PDF file is given as Kaggle Input (for example, manually uploaded), change the use_kaggle_input to True\n",
    "use_kaggle_input_tender = False if os.path.exists('/kaggle/working/tender_wind.pdf') else True\n",
    "if use_kaggle_input_tender:\n",
    "    tender_file_path = '/kaggle/input/tenders/tender_wind.pdf'\n",
    "else:\n",
    "    tender_file_path = '/kaggle/working/tender_wind.pdf'\n",
    "\n",
    "print(f\"The file {tender_file_path} will be used as the tender\")"
   ]
  },
  {
   "cell_type": "markdown",
   "id": "88332572",
   "metadata": {
    "papermill": {
     "duration": 0.004338,
     "end_time": "2024-11-20T11:45:29.146239",
     "exception": false,
     "start_time": "2024-11-20T11:45:29.141901",
     "status": "completed"
    },
    "tags": []
   },
   "source": [
    "Installing required Python packages to analyze the tender - in PDF format."
   ]
  },
  {
   "cell_type": "code",
   "execution_count": 4,
   "id": "bf3a50bb",
   "metadata": {
    "execution": {
     "iopub.execute_input": "2024-11-20T11:45:29.156226Z",
     "iopub.status.busy": "2024-11-20T11:45:29.155973Z",
     "iopub.status.idle": "2024-11-20T11:45:38.665820Z",
     "shell.execute_reply": "2024-11-20T11:45:38.664964Z"
    },
    "papermill": {
     "duration": 9.51703,
     "end_time": "2024-11-20T11:45:38.667638",
     "exception": false,
     "start_time": "2024-11-20T11:45:29.150608",
     "status": "completed"
    },
    "tags": []
   },
   "outputs": [
    {
     "name": "stdout",
     "output_type": "stream",
     "text": [
      "Collecting PyPDF2\r\n",
      "  Downloading pypdf2-3.0.1-py3-none-any.whl.metadata (6.8 kB)\r\n",
      "Downloading pypdf2-3.0.1-py3-none-any.whl (232 kB)\r\n",
      "\u001b[2K   \u001b[90m━━━━━━━━━━━━━━━━━━━━━━━━━━━━━━━━━━━━━━━━\u001b[0m \u001b[32m232.6/232.6 kB\u001b[0m \u001b[31m7.6 MB/s\u001b[0m eta \u001b[36m0:00:00\u001b[0m\r\n",
      "\u001b[?25hInstalling collected packages: PyPDF2\r\n",
      "Successfully installed PyPDF2-3.0.1\r\n"
     ]
    }
   ],
   "source": [
    "!pip install PyPDF2"
   ]
  },
  {
   "cell_type": "markdown",
   "id": "59a99974",
   "metadata": {
    "papermill": {
     "duration": 0.00454,
     "end_time": "2024-11-20T11:45:38.677242",
     "exception": false,
     "start_time": "2024-11-20T11:45:38.672702",
     "status": "completed"
    },
    "tags": []
   },
   "source": [
    "Extract information from the tender.\n",
    "The output will be a text."
   ]
  },
  {
   "cell_type": "code",
   "execution_count": 5,
   "id": "52cc4eaf",
   "metadata": {
    "execution": {
     "iopub.execute_input": "2024-11-20T11:45:38.688103Z",
     "iopub.status.busy": "2024-11-20T11:45:38.687803Z",
     "iopub.status.idle": "2024-11-20T11:45:39.664612Z",
     "shell.execute_reply": "2024-11-20T11:45:39.663739Z"
    },
    "papermill": {
     "duration": 0.984799,
     "end_time": "2024-11-20T11:45:39.666752",
     "exception": false,
     "start_time": "2024-11-20T11:45:38.681953",
     "status": "completed"
    },
    "tags": []
   },
   "outputs": [],
   "source": [
    "import PyPDF2\n",
    "\n",
    "# Initialize an empty string to store the full text of the PDF\n",
    "tender_info = \"\"\n",
    "\n",
    "# Open the PDF file\n",
    "with open(tender_file_path, 'rb') as pdf_file:\n",
    "    reader = PyPDF2.PdfReader(pdf_file)\n",
    "    \n",
    "    # Iterate over all pages and append their text to tender_info\n",
    "    for page in reader.pages:\n",
    "        tender_info += page.extract_text()  # Append page text to solar_tender\n",
    "\n",
    "# Print the extracted text\n",
    "# print(tender_info)"
   ]
  },
  {
   "cell_type": "markdown",
   "id": "b707b7ce",
   "metadata": {
    "papermill": {
     "duration": 0.004514,
     "end_time": "2024-11-20T11:45:39.676305",
     "exception": false,
     "start_time": "2024-11-20T11:45:39.671791",
     "status": "completed"
    },
    "tags": []
   },
   "source": [
    "# Fetch information about companies"
   ]
  },
  {
   "cell_type": "markdown",
   "id": "7192fb6e",
   "metadata": {
    "papermill": {
     "duration": 0.004561,
     "end_time": "2024-11-20T11:45:39.685627",
     "exception": false,
     "start_time": "2024-11-20T11:45:39.681066",
     "status": "completed"
    },
    "tags": []
   },
   "source": [
    "## Overview\n",
    "Information about interesting companies is obtained from their websites.\n",
    "\n",
    "To generate data out of the companies' websites, we implemented a crawler.\n",
    "The final output of the crawler is a JSON file, in which each field refers to a company: for each company, all the information of the websites is merged.\n",
    "\n",
    "> To make things easier, the mentioned JSON file will be fetched from a Git repository where the crawling function has already been executed.\n",
    "\n",
    "## Details about the crawling process:\n",
    "- **Recursive scan**: after a webpage is scanned and its content is stored, eventual found sublinks are scanned, as well. A limit of the wepages to download is given as input.\n",
    "- **Redundant information is deleted**: if some website content can be found multiple times in all the webpages of one company, then it is skipped. *Example*: undesired and redundant lines like \"Contact Us\" are removed, ensuring that the final content does not include unnecessary sentences.\n",
    "- **Caching of already downloaded pages**: for each webpage, the content is stored in a JSON file, as well as the found sublinks. *Example*: after a run with a limit of N pages, other runs with less than N pages will use the stored files instead downloading data from internet; at the contrary, if the limit is increased to M > N pages, only M - N additional pages will be downloaded while the first N pages will be taken from the stored file."
   ]
  },
  {
   "cell_type": "markdown",
   "id": "14781286",
   "metadata": {
    "papermill": {
     "duration": 0.004517,
     "end_time": "2024-11-20T11:45:39.694727",
     "exception": false,
     "start_time": "2024-11-20T11:45:39.690210",
     "status": "completed"
    },
    "tags": []
   },
   "source": [
    "## Load the results from the crawler's repo"
   ]
  },
  {
   "cell_type": "code",
   "execution_count": 6,
   "id": "c3d24021",
   "metadata": {
    "execution": {
     "iopub.execute_input": "2024-11-20T11:45:39.705078Z",
     "iopub.status.busy": "2024-11-20T11:45:39.704798Z",
     "iopub.status.idle": "2024-11-20T11:45:40.951664Z",
     "shell.execute_reply": "2024-11-20T11:45:40.950879Z"
    },
    "papermill": {
     "duration": 1.25428,
     "end_time": "2024-11-20T11:45:40.953596",
     "exception": false,
     "start_time": "2024-11-20T11:45:39.699316",
     "status": "completed"
    },
    "tags": []
   },
   "outputs": [
    {
     "name": "stdout",
     "output_type": "stream",
     "text": [
      "--2024-11-20 11:45:40--  https://raw.githubusercontent.com/gabripo/kaggle-gemini-long-context/refs/heads/main/companies_info.json\r\n",
      "Resolving raw.githubusercontent.com (raw.githubusercontent.com)... 185.199.108.133, 185.199.110.133, 185.199.111.133, ...\r\n",
      "Connecting to raw.githubusercontent.com (raw.githubusercontent.com)|185.199.108.133|:443... connected.\r\n",
      "HTTP request sent, awaiting response... 200 OK\r\n",
      "Length: 3067142 (2.9M) [text/plain]\r\n",
      "Saving to: '/kaggle/working/companies_info.json'\r\n",
      "\r\n",
      "companies_info.json 100%[===================>]   2.92M  --.-KB/s    in 0.04s   \r\n",
      "\r\n",
      "2024-11-20 11:45:40 (69.2 MB/s) - '/kaggle/working/companies_info.json' saved [3067142/3067142]\r\n",
      "\r\n"
     ]
    }
   ],
   "source": [
    "!wget https://raw.githubusercontent.com/gabripo/kaggle-gemini-long-context/refs/heads/main/companies_info.json -P /kaggle/working"
   ]
  },
  {
   "cell_type": "markdown",
   "id": "3d56052e",
   "metadata": {
    "papermill": {
     "duration": 0.004686,
     "end_time": "2024-11-20T11:45:40.963635",
     "exception": false,
     "start_time": "2024-11-20T11:45:40.958949",
     "status": "completed"
    },
    "tags": []
   },
   "source": [
    "Locate the JSON file containing the companies' information."
   ]
  },
  {
   "cell_type": "code",
   "execution_count": 7,
   "id": "42bbbfff",
   "metadata": {
    "execution": {
     "iopub.execute_input": "2024-11-20T11:45:40.975060Z",
     "iopub.status.busy": "2024-11-20T11:45:40.974201Z",
     "iopub.status.idle": "2024-11-20T11:45:40.979668Z",
     "shell.execute_reply": "2024-11-20T11:45:40.978905Z"
    },
    "papermill": {
     "duration": 0.012979,
     "end_time": "2024-11-20T11:45:40.981375",
     "exception": false,
     "start_time": "2024-11-20T11:45:40.968396",
     "status": "completed"
    },
    "tags": []
   },
   "outputs": [
    {
     "name": "stdout",
     "output_type": "stream",
     "text": [
      "The file /kaggle/working/companies_info.json will be used for the information regarding the companies\n"
     ]
    }
   ],
   "source": [
    "import os\n",
    "\n",
    "# if the JSON file is given as Kaggle Input (for example, manually uploaded), change the use_kaggle_input to True\n",
    "use_kaggle_input_companies = False if os.path.exists('/kaggle/working/companies_info.json') else True\n",
    "if use_kaggle_input_companies:\n",
    "    companies_info_file_path = '/kaggle/input/companies-websites/companies_info.json'\n",
    "else:\n",
    "    companies_info_file_path = '/kaggle/working/companies_info.json'\n",
    "\n",
    "print(f\"The file {companies_info_file_path} will be used for the information regarding the companies\")"
   ]
  },
  {
   "cell_type": "markdown",
   "id": "1bb8fe85",
   "metadata": {
    "papermill": {
     "duration": 0.00461,
     "end_time": "2024-11-20T11:45:40.990974",
     "exception": false,
     "start_time": "2024-11-20T11:45:40.986364",
     "status": "completed"
    },
    "tags": []
   },
   "source": [
    "Define a small function to read the information about the companies - in JSON format."
   ]
  },
  {
   "cell_type": "code",
   "execution_count": 8,
   "id": "2627cee6",
   "metadata": {
    "execution": {
     "iopub.execute_input": "2024-11-20T11:45:41.001784Z",
     "iopub.status.busy": "2024-11-20T11:45:41.001512Z",
     "iopub.status.idle": "2024-11-20T11:45:41.005723Z",
     "shell.execute_reply": "2024-11-20T11:45:41.004913Z"
    },
    "papermill": {
     "duration": 0.011493,
     "end_time": "2024-11-20T11:45:41.007330",
     "exception": false,
     "start_time": "2024-11-20T11:45:40.995837",
     "status": "completed"
    },
    "tags": []
   },
   "outputs": [],
   "source": [
    "import json\n",
    "\n",
    "def read_companies_info(jsonFilePath: str) -> dict:\n",
    "    \n",
    "    with open(jsonFilePath, \"r\") as f:\n",
    "        data = json.load(f)\n",
    "    return data"
   ]
  },
  {
   "cell_type": "markdown",
   "id": "c5a9f451",
   "metadata": {
    "papermill": {
     "duration": 0.00472,
     "end_time": "2024-11-20T11:45:41.017064",
     "exception": false,
     "start_time": "2024-11-20T11:45:41.012344",
     "status": "completed"
    },
    "tags": []
   },
   "source": [
    "Load the companies' information by using the defined function."
   ]
  },
  {
   "cell_type": "code",
   "execution_count": 9,
   "id": "f8517434",
   "metadata": {
    "execution": {
     "iopub.execute_input": "2024-11-20T11:45:41.027584Z",
     "iopub.status.busy": "2024-11-20T11:45:41.027358Z",
     "iopub.status.idle": "2024-11-20T11:45:41.086573Z",
     "shell.execute_reply": "2024-11-20T11:45:41.085927Z"
    },
    "papermill": {
     "duration": 0.066468,
     "end_time": "2024-11-20T11:45:41.088316",
     "exception": false,
     "start_time": "2024-11-20T11:45:41.021848",
     "status": "completed"
    },
    "tags": []
   },
   "outputs": [],
   "source": [
    "companies_info = read_companies_info(companies_info_file_path)\n",
    "\n",
    "# companies_info is a dictionary, where the key is the name of the company and the related value its information\n",
    "# print(companies_info[\"SIEMENS\"]) "
   ]
  },
  {
   "cell_type": "markdown",
   "id": "61fd9e8b",
   "metadata": {
    "papermill": {
     "duration": 0.004644,
     "end_time": "2024-11-20T11:45:41.098147",
     "exception": false,
     "start_time": "2024-11-20T11:45:41.093503",
     "status": "completed"
    },
    "tags": []
   },
   "source": [
    "# Chat with Gemini"
   ]
  },
  {
   "cell_type": "code",
   "execution_count": 10,
   "id": "4bb686c6",
   "metadata": {
    "execution": {
     "iopub.execute_input": "2024-11-20T11:45:41.109231Z",
     "iopub.status.busy": "2024-11-20T11:45:41.108577Z",
     "iopub.status.idle": "2024-11-20T11:45:42.148359Z",
     "shell.execute_reply": "2024-11-20T11:45:42.147660Z"
    },
    "papermill": {
     "duration": 1.047192,
     "end_time": "2024-11-20T11:45:42.150123",
     "exception": false,
     "start_time": "2024-11-20T11:45:41.102931",
     "status": "completed"
    },
    "tags": []
   },
   "outputs": [],
   "source": [
    "# API key got here: https://ai.google.dev/tutorials/setup\n",
    "\n",
    "import google.generativeai as genai\n",
    "from kaggle_secrets import UserSecretsClient\n",
    "\n",
    "\n",
    "user_secrets = UserSecretsClient()\n",
    "secret_key = user_secrets.get_secret(\"GEMINI_API_KEY\")\n",
    "\n",
    "genai.configure(api_key = secret_key)\n",
    "\n",
    "model = genai.GenerativeModel(model_name='gemini-1.5-pro-latest')\n",
    "\n",
    "chat = model.start_chat()\n",
    "\n",
    "# example how to send prompts\n",
    "# response = chat.send_message('Hi! What about competing on Kaggle?')\n",
    "# print(response.text)"
   ]
  },
  {
   "cell_type": "markdown",
   "id": "bdd658f6",
   "metadata": {
    "papermill": {
     "duration": 0.005582,
     "end_time": "2024-11-20T11:45:42.161028",
     "exception": false,
     "start_time": "2024-11-20T11:45:42.155446",
     "status": "completed"
    },
    "tags": []
   },
   "source": [
    "## Define the system and user prompts"
   ]
  },
  {
   "cell_type": "code",
   "execution_count": 11,
   "id": "246d628b",
   "metadata": {
    "execution": {
     "iopub.execute_input": "2024-11-20T11:45:42.172470Z",
     "iopub.status.busy": "2024-11-20T11:45:42.171932Z",
     "iopub.status.idle": "2024-11-20T11:45:42.175965Z",
     "shell.execute_reply": "2024-11-20T11:45:42.175182Z"
    },
    "papermill": {
     "duration": 0.011481,
     "end_time": "2024-11-20T11:45:42.177584",
     "exception": false,
     "start_time": "2024-11-20T11:45:42.166103",
     "status": "completed"
    },
    "tags": []
   },
   "outputs": [],
   "source": [
    "system_prompt = \"You are an experienced technical sales manager. You are given the content of websites of companies with their portfolio for products and solutions. Use the content of the websites to provide detailed technical answers based on tender requirements and user prompt.\"\n",
    "# print(f\"The system prompt is:\\n{system_prompt}\")"
   ]
  },
  {
   "cell_type": "code",
   "execution_count": 12,
   "id": "db4e626f",
   "metadata": {
    "execution": {
     "iopub.execute_input": "2024-11-20T11:45:42.188505Z",
     "iopub.status.busy": "2024-11-20T11:45:42.188271Z",
     "iopub.status.idle": "2024-11-20T11:45:42.202202Z",
     "shell.execute_reply": "2024-11-20T11:45:42.201604Z"
    },
    "papermill": {
     "duration": 0.021151,
     "end_time": "2024-11-20T11:45:42.203651",
     "exception": false,
     "start_time": "2024-11-20T11:45:42.182500",
     "status": "completed"
    },
    "tags": []
   },
   "outputs": [],
   "source": [
    "user_prompt = f\"\"\"\n",
    "\n",
    "I want to build the whole plant as per tender technical requirements {tender_info}.\n",
    "\n",
    "1. Analyse and identify all the technical requirements in the tender.\n",
    "\n",
    "2. For company [SIEMENS] and [HITACHI], find the respective relevant products and solutions with respect to point 1. Do this one company at a time and store the results.\n",
    "\n",
    "3. Calculate an affinity score in % of company [SIEMENS] and [HITACHI] based on the match of results in point 2.\n",
    "\n",
    "SIEMENS: {companies_info[\"SIEMENS\"]}\n",
    "HITACHI: {companies_info[\"HITACHI\"]}\n",
    "\n",
    "4. Return a quick technical summary of the tender.\n",
    "\n",
    "5. Return the technical details of the company with the highest affinity score and its score. Focus on the technical specifications mentioning the compliances with the tender. Report also the URL of the source where you found the informations and mention if there is some non compliant requirements from tender.\n",
    "\n",
    "6. Return also the other affinity scores alone of the other companies. \n",
    "\n",
    "\"\"\"\n",
    "\n",
    "# print(f\"The user prompt is:\\n{user_prompt}\")"
   ]
  },
  {
   "cell_type": "markdown",
   "id": "f4e9979e",
   "metadata": {
    "papermill": {
     "duration": 0.004604,
     "end_time": "2024-11-20T11:45:42.213155",
     "exception": false,
     "start_time": "2024-11-20T11:45:42.208551",
     "status": "completed"
    },
    "tags": []
   },
   "source": [
    "## Check how many tokens are needed to process the prompts"
   ]
  },
  {
   "cell_type": "code",
   "execution_count": 13,
   "id": "3dfde899",
   "metadata": {
    "execution": {
     "iopub.execute_input": "2024-11-20T11:45:42.223610Z",
     "iopub.status.busy": "2024-11-20T11:45:42.223394Z",
     "iopub.status.idle": "2024-11-20T11:45:42.267136Z",
     "shell.execute_reply": "2024-11-20T11:45:42.266213Z"
    },
    "papermill": {
     "duration": 0.050697,
     "end_time": "2024-11-20T11:45:42.268653",
     "exception": false,
     "start_time": "2024-11-20T11:45:42.217956",
     "status": "completed"
    },
    "tags": []
   },
   "outputs": [
    {
     "name": "stdout",
     "output_type": "stream",
     "text": [
      "Number of tokens (words): 420633\n"
     ]
    }
   ],
   "source": [
    "# Split the prompt into words (tokens)\n",
    "tokens = user_prompt.split()\n",
    "\n",
    "# Count the number of tokens\n",
    "num_tokens = len(tokens)\n",
    "print(f\"Number of tokens (words): {num_tokens}\")"
   ]
  },
  {
   "cell_type": "markdown",
   "id": "43233b69",
   "metadata": {
    "papermill": {
     "duration": 0.00473,
     "end_time": "2024-11-20T11:45:42.278245",
     "exception": false,
     "start_time": "2024-11-20T11:45:42.273515",
     "status": "completed"
    },
    "tags": []
   },
   "source": [
    "## Generate a response"
   ]
  },
  {
   "cell_type": "code",
   "execution_count": 14,
   "id": "4b5e8ae3",
   "metadata": {
    "execution": {
     "iopub.execute_input": "2024-11-20T11:45:42.288852Z",
     "iopub.status.busy": "2024-11-20T11:45:42.288600Z",
     "iopub.status.idle": "2024-11-20T11:45:42.292210Z",
     "shell.execute_reply": "2024-11-20T11:45:42.291535Z"
    },
    "papermill": {
     "duration": 0.010697,
     "end_time": "2024-11-20T11:45:42.293769",
     "exception": false,
     "start_time": "2024-11-20T11:45:42.283072",
     "status": "completed"
    },
    "tags": []
   },
   "outputs": [],
   "source": [
    "want_a_response = False # disable if willing to save a notebook but the Gemini quota has been exhausted\n",
    "\n",
    "if want_a_response:\n",
    "    response = chat.send_message(system_prompt + user_prompt)\n",
    "    print(response.text)"
   ]
  },
  {
   "cell_type": "markdown",
   "id": "2b131f11",
   "metadata": {
    "papermill": {
     "duration": 0.004744,
     "end_time": "2024-11-20T11:45:42.303586",
     "exception": false,
     "start_time": "2024-11-20T11:45:42.298842",
     "status": "completed"
    },
    "tags": []
   },
   "source": [
    "## Check how many tokens have been used so far"
   ]
  },
  {
   "cell_type": "code",
   "execution_count": 15,
   "id": "22beeeda",
   "metadata": {
    "execution": {
     "iopub.execute_input": "2024-11-20T11:45:42.314344Z",
     "iopub.status.busy": "2024-11-20T11:45:42.314130Z",
     "iopub.status.idle": "2024-11-20T11:45:42.317449Z",
     "shell.execute_reply": "2024-11-20T11:45:42.316832Z"
    },
    "papermill": {
     "duration": 0.010588,
     "end_time": "2024-11-20T11:45:42.319035",
     "exception": false,
     "start_time": "2024-11-20T11:45:42.308447",
     "status": "completed"
    },
    "tags": []
   },
   "outputs": [],
   "source": [
    "if want_a_response:\n",
    "    usage_metadata = response.usage_metadata\n",
    "    print(f\"Token count: {usage_metadata.total_token_count}\")"
   ]
  }
 ],
 "metadata": {
  "kaggle": {
   "accelerator": "gpu",
   "dataSources": [],
   "dockerImageVersionId": 30786,
   "isGpuEnabled": true,
   "isInternetEnabled": true,
   "language": "python",
   "sourceType": "notebook"
  },
  "kernelspec": {
   "display_name": "Python 3",
   "language": "python",
   "name": "python3"
  },
  "language_info": {
   "codemirror_mode": {
    "name": "ipython",
    "version": 3
   },
   "file_extension": ".py",
   "mimetype": "text/x-python",
   "name": "python",
   "nbconvert_exporter": "python",
   "pygments_lexer": "ipython3",
   "version": "3.10.14"
  },
  "papermill": {
   "default_parameters": {},
   "duration": 18.389652,
   "end_time": "2024-11-20T11:45:42.741641",
   "environment_variables": {},
   "exception": null,
   "input_path": "__notebook__.ipynb",
   "output_path": "__notebook__.ipynb",
   "parameters": {},
   "start_time": "2024-11-20T11:45:24.351989",
   "version": "2.6.0"
  }
 },
 "nbformat": 4,
 "nbformat_minor": 5
}
