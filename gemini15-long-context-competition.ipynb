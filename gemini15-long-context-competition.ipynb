{
 "cells": [
  {
   "cell_type": "markdown",
   "id": "8635c0cc",
   "metadata": {
    "papermill": {
     "duration": 0.006253,
     "end_time": "2024-11-22T15:42:50.312505",
     "exception": false,
     "start_time": "2024-11-22T15:42:50.306252",
     "status": "completed"
    },
    "tags": []
   },
   "source": [
    "# Tender2Project\n",
    "The following Kaggle notebook exploits the long context window of Gemini, in order to fulfill the following targets:\n",
    "- Analyze the tender for a project.\n",
    "- Analyze the information about possible products, provided from different companies.\n",
    "- Find the best combination of products to build the project in the tender, identifying the most compliant company as well.\n",
    "\n",
    "## Notebook structure\n",
    "The notebook is composed by different parts, each one with a specific target:\n",
    "- A tender for a project is parsed, such that its information is converted to text.\n",
    "- Information scraped from the websites of different companies is loaded as text.\n",
    "- All the text is forwarded to Gemini, whereas a system prompt and a user prompt are written to explain the purposed o Gemini.\n",
    "\n",
    "## Theoretical aspects\n",
    "The current way to use Gemini makes use of the following properties of a LLM (Large Language Model) like Gemini:\n",
    "|  **LLM property** | **Where it is used** | **How it is used** |\n",
    "|:-----------------:|:--------------------:|:------------------:|\n",
    "|     Reasoning     |          TBD         |         TBD        |\n",
    "|       Memory      |          TBD         |         TBD        |\n",
    "| Chain of Thoughts |          TBD         |         TBD        |\n",
    "|                   |                      |                    |"
   ]
  },
  {
   "cell_type": "markdown",
   "id": "7a1b1865",
   "metadata": {
    "papermill": {
     "duration": 0.005347,
     "end_time": "2024-11-22T15:42:50.324497",
     "exception": false,
     "start_time": "2024-11-22T15:42:50.319150",
     "status": "completed"
    },
    "tags": []
   },
   "source": [
    "Clean the working directory"
   ]
  },
  {
   "cell_type": "code",
   "execution_count": 1,
   "id": "78b127a5",
   "metadata": {
    "execution": {
     "iopub.execute_input": "2024-11-22T15:42:50.337310Z",
     "iopub.status.busy": "2024-11-22T15:42:50.336999Z",
     "iopub.status.idle": "2024-11-22T15:42:51.332725Z",
     "shell.execute_reply": "2024-11-22T15:42:51.331735Z"
    },
    "papermill": {
     "duration": 1.004302,
     "end_time": "2024-11-22T15:42:51.334742",
     "exception": false,
     "start_time": "2024-11-22T15:42:50.330440",
     "status": "completed"
    },
    "tags": []
   },
   "outputs": [],
   "source": [
    "! rm -r /kaggle/working/*"
   ]
  },
  {
   "cell_type": "markdown",
   "id": "3d3dc18e",
   "metadata": {
    "papermill": {
     "duration": 0.005385,
     "end_time": "2024-11-22T15:42:51.345835",
     "exception": false,
     "start_time": "2024-11-22T15:42:51.340450",
     "status": "completed"
    },
    "tags": []
   },
   "source": [
    "# Analyze the tenders"
   ]
  },
  {
   "cell_type": "markdown",
   "id": "fdde0592",
   "metadata": {
    "papermill": {
     "duration": 0.005219,
     "end_time": "2024-11-22T15:42:51.356424",
     "exception": false,
     "start_time": "2024-11-22T15:42:51.351205",
     "status": "completed"
    },
    "tags": []
   },
   "source": [
    "Locate the tenders - in PDF format."
   ]
  },
  {
   "cell_type": "code",
   "execution_count": 2,
   "id": "e00cadb1",
   "metadata": {
    "execution": {
     "iopub.execute_input": "2024-11-22T15:42:51.368843Z",
     "iopub.status.busy": "2024-11-22T15:42:51.368229Z",
     "iopub.status.idle": "2024-11-22T15:42:52.573113Z",
     "shell.execute_reply": "2024-11-22T15:42:52.572060Z"
    },
    "papermill": {
     "duration": 1.213352,
     "end_time": "2024-11-22T15:42:52.575103",
     "exception": false,
     "start_time": "2024-11-22T15:42:51.361751",
     "status": "completed"
    },
    "tags": []
   },
   "outputs": [
    {
     "name": "stdout",
     "output_type": "stream",
     "text": [
      "--2024-11-22 15:42:52--  https://raw.githubusercontent.com/gabripo/kaggle-gemini-long-context/refs/heads/main/github_downloader.py\r\n",
      "Resolving raw.githubusercontent.com (raw.githubusercontent.com)... 185.199.109.133, 185.199.108.133, 185.199.111.133, ...\r\n",
      "Connecting to raw.githubusercontent.com (raw.githubusercontent.com)|185.199.109.133|:443... connected.\r\n",
      "HTTP request sent, awaiting response... 200 OK\r\n",
      "Length: 1722 (1.7K) [text/plain]\r\n",
      "Saving to: '/kaggle/working/scripts/github_downloader.py'\r\n",
      "\r\n",
      "github_downloader.p 100%[===================>]   1.68K  --.-KB/s    in 0s      \r\n",
      "\r\n",
      "2024-11-22 15:42:52 (33.1 MB/s) - '/kaggle/working/scripts/github_downloader.py' saved [1722/1722]\r\n",
      "\r\n"
     ]
    }
   ],
   "source": [
    "# fetch the script to download content from GitHub\n",
    "!wget https://raw.githubusercontent.com/gabripo/kaggle-gemini-long-context/refs/heads/main/github_downloader.py -P /kaggle/working/scripts\n",
    "\n",
    "# add downloaded script to the Python path\n",
    "import sys\n",
    "sys.path.append('/kaggle/working/scripts')"
   ]
  },
  {
   "cell_type": "code",
   "execution_count": 3,
   "id": "aa2d2e2b",
   "metadata": {
    "execution": {
     "iopub.execute_input": "2024-11-22T15:42:52.588221Z",
     "iopub.status.busy": "2024-11-22T15:42:52.587926Z",
     "iopub.status.idle": "2024-11-22T15:42:53.208651Z",
     "shell.execute_reply": "2024-11-22T15:42:53.207596Z"
    },
    "papermill": {
     "duration": 0.629327,
     "end_time": "2024-11-22T15:42:53.210408",
     "exception": false,
     "start_time": "2024-11-22T15:42:52.581081",
     "status": "completed"
    },
    "tags": []
   },
   "outputs": [
    {
     "name": "stdout",
     "output_type": "stream",
     "text": [
      "Downloading tender_solar.pdf...\n",
      "/kaggle/working/tenders/tender_solar.pdf downloaded successfully.\n",
      "Downloading tender_wind.pdf...\n",
      "/kaggle/working/tenders/tender_wind.pdf downloaded successfully.\n",
      "All files downloaded.\n"
     ]
    }
   ],
   "source": [
    "import github_downloader\n",
    "\n",
    "github_downloader.download_files_from_github_repo(folderName=\"tenders\", saveFolder=\"/kaggle/working/tenders\", extension=\"pdf\")"
   ]
  },
  {
   "cell_type": "code",
   "execution_count": 4,
   "id": "30df14e5",
   "metadata": {
    "execution": {
     "iopub.execute_input": "2024-11-22T15:42:53.223218Z",
     "iopub.status.busy": "2024-11-22T15:42:53.222972Z",
     "iopub.status.idle": "2024-11-22T15:42:53.227487Z",
     "shell.execute_reply": "2024-11-22T15:42:53.226733Z"
    },
    "papermill": {
     "duration": 0.012777,
     "end_time": "2024-11-22T15:42:53.229183",
     "exception": false,
     "start_time": "2024-11-22T15:42:53.216406",
     "status": "completed"
    },
    "tags": []
   },
   "outputs": [
    {
     "name": "stdout",
     "output_type": "stream",
     "text": [
      "The folder /kaggle/working/tenders will be considered as containing the tenders\n"
     ]
    }
   ],
   "source": [
    "import os\n",
    "\n",
    "# if the PDF file is given as Kaggle Input (for example, manually uploaded), change the use_kaggle_input to True\n",
    "use_kaggle_input_tender = False if os.path.exists('/kaggle/working/tenders') else True\n",
    "if use_kaggle_input_tender:\n",
    "    tenders_file_path = '/kaggle/input/tenders'\n",
    "else:\n",
    "    tenders_file_path = '/kaggle/working/tenders'\n",
    "\n",
    "print(f\"The folder {tenders_file_path} will be considered as containing the tenders\")"
   ]
  },
  {
   "cell_type": "markdown",
   "id": "5764d4d2",
   "metadata": {
    "papermill": {
     "duration": 0.005752,
     "end_time": "2024-11-22T15:42:53.240694",
     "exception": false,
     "start_time": "2024-11-22T15:42:53.234942",
     "status": "completed"
    },
    "tags": []
   },
   "source": [
    "Installing required Python packages to analyze the tender - in PDF format."
   ]
  },
  {
   "cell_type": "code",
   "execution_count": 5,
   "id": "44d1dc2a",
   "metadata": {
    "execution": {
     "iopub.execute_input": "2024-11-22T15:42:53.253158Z",
     "iopub.status.busy": "2024-11-22T15:42:53.252904Z",
     "iopub.status.idle": "2024-11-22T15:43:02.878330Z",
     "shell.execute_reply": "2024-11-22T15:43:02.877213Z"
    },
    "papermill": {
     "duration": 9.634178,
     "end_time": "2024-11-22T15:43:02.880744",
     "exception": false,
     "start_time": "2024-11-22T15:42:53.246566",
     "status": "completed"
    },
    "tags": []
   },
   "outputs": [
    {
     "name": "stdout",
     "output_type": "stream",
     "text": [
      "Collecting PyPDF2\r\n",
      "  Downloading pypdf2-3.0.1-py3-none-any.whl.metadata (6.8 kB)\r\n",
      "Downloading pypdf2-3.0.1-py3-none-any.whl (232 kB)\r\n",
      "\u001b[2K   \u001b[90m━━━━━━━━━━━━━━━━━━━━━━━━━━━━━━━━━━━━━━━━\u001b[0m \u001b[32m232.6/232.6 kB\u001b[0m \u001b[31m7.0 MB/s\u001b[0m eta \u001b[36m0:00:00\u001b[0m\r\n",
      "\u001b[?25hInstalling collected packages: PyPDF2\r\n",
      "Successfully installed PyPDF2-3.0.1\r\n"
     ]
    }
   ],
   "source": [
    "!pip install PyPDF2"
   ]
  },
  {
   "cell_type": "markdown",
   "id": "32718984",
   "metadata": {
    "papermill": {
     "duration": 0.00584,
     "end_time": "2024-11-22T15:43:02.893069",
     "exception": false,
     "start_time": "2024-11-22T15:43:02.887229",
     "status": "completed"
    },
    "tags": []
   },
   "source": [
    "Extract information from the tenders.\n",
    "The output will be a text."
   ]
  },
  {
   "cell_type": "code",
   "execution_count": 6,
   "id": "cb5314e8",
   "metadata": {
    "execution": {
     "iopub.execute_input": "2024-11-22T15:43:02.906329Z",
     "iopub.status.busy": "2024-11-22T15:43:02.906044Z",
     "iopub.status.idle": "2024-11-22T15:43:04.367061Z",
     "shell.execute_reply": "2024-11-22T15:43:04.366344Z"
    },
    "papermill": {
     "duration": 1.469954,
     "end_time": "2024-11-22T15:43:04.368964",
     "exception": false,
     "start_time": "2024-11-22T15:43:02.899010",
     "status": "completed"
    },
    "tags": []
   },
   "outputs": [
    {
     "name": "stdout",
     "output_type": "stream",
     "text": [
      "Reading the tender tender_solar.pdf ...\n",
      "Reading the tender tender_wind.pdf ...\n"
     ]
    }
   ],
   "source": [
    "import os\n",
    "from PyPDF2 import PdfReader\n",
    "\n",
    "tenders = [t for t in os.listdir(tenders_file_path) if t.endswith(\".pdf\")]\n",
    "tenders_info = {}\n",
    "for tender in tenders:\n",
    "    print(f\"Reading the tender {tender} ...\")\n",
    "    reader = PdfReader(os.path.join(tenders_file_path, tender))\n",
    "\n",
    "    tenders_info[tender] = {}\n",
    "    tenders_info[tender][\"name\"] = tender\n",
    "    tenders_info[tender][\"content\"] = \"\\n\".join([page.extract_text() for page in reader.pages])\n",
    "\n",
    "# temporary, considering the very first tender, only\n",
    "tender_info = tenders_info[tenders[0]]"
   ]
  },
  {
   "cell_type": "markdown",
   "id": "53a86300",
   "metadata": {
    "papermill": {
     "duration": 0.005911,
     "end_time": "2024-11-22T15:43:04.381518",
     "exception": false,
     "start_time": "2024-11-22T15:43:04.375607",
     "status": "completed"
    },
    "tags": []
   },
   "source": [
    "# Fetch information about companies"
   ]
  },
  {
   "cell_type": "markdown",
   "id": "d6b8a732",
   "metadata": {
    "papermill": {
     "duration": 0.005805,
     "end_time": "2024-11-22T15:43:04.393417",
     "exception": false,
     "start_time": "2024-11-22T15:43:04.387612",
     "status": "completed"
    },
    "tags": []
   },
   "source": [
    "## Overview\n",
    "Information about interesting companies is obtained from their websites.\n",
    "\n",
    "To generate data out of the companies' websites, we implemented a crawler.\n",
    "The final output of the crawler is a JSON file, in which each field refers to a company: for each company, all the information of the websites is merged.\n",
    "\n",
    "> To make things easier, the mentioned JSON file will be fetched from a Git repository where the crawling function has already been executed.\n",
    "\n",
    "## Details about the crawling process:\n",
    "- **Recursive scan**: after a webpage is scanned and its content is stored, eventual found sublinks are scanned, as well. A limit of the wepages to download is given as input.\n",
    "- **Redundant information is deleted**: if some website content can be found multiple times in all the webpages of one company, then it is skipped. *Example*: undesired and redundant lines like \"Contact Us\" are removed, ensuring that the final content does not include unnecessary sentences.\n",
    "- **Caching of already downloaded pages**: for each webpage, the content is stored in a JSON file, as well as the found sublinks. *Example*: after a run with a limit of N pages, other runs with less than N pages will use the stored files instead downloading data from internet; at the contrary, if the limit is increased to M > N pages, only M - N additional pages will be downloaded while the first N pages will be taken from the stored file."
   ]
  },
  {
   "cell_type": "markdown",
   "id": "c708419d",
   "metadata": {
    "papermill": {
     "duration": 0.005929,
     "end_time": "2024-11-22T15:43:04.405378",
     "exception": false,
     "start_time": "2024-11-22T15:43:04.399449",
     "status": "completed"
    },
    "tags": []
   },
   "source": [
    "## Load the results from the crawler's repo"
   ]
  },
  {
   "cell_type": "code",
   "execution_count": 7,
   "id": "44d12b4c",
   "metadata": {
    "execution": {
     "iopub.execute_input": "2024-11-22T15:43:04.418628Z",
     "iopub.status.busy": "2024-11-22T15:43:04.418355Z",
     "iopub.status.idle": "2024-11-22T15:43:05.201186Z",
     "shell.execute_reply": "2024-11-22T15:43:05.200111Z"
    },
    "papermill": {
     "duration": 0.791613,
     "end_time": "2024-11-22T15:43:05.203042",
     "exception": false,
     "start_time": "2024-11-22T15:43:04.411429",
     "status": "completed"
    },
    "tags": []
   },
   "outputs": [
    {
     "name": "stdout",
     "output_type": "stream",
     "text": [
      "Downloading companies_info.json...\n",
      "/kaggle/working/companies_info/companies_info.json downloaded successfully.\n",
      "All files downloaded.\n"
     ]
    }
   ],
   "source": [
    "github_downloader.download_files_from_github_repo(folderName=\"\", saveFolder=\"/kaggle/working/companies_info\", extension=\"json\")"
   ]
  },
  {
   "cell_type": "markdown",
   "id": "48d52e35",
   "metadata": {
    "papermill": {
     "duration": 0.006022,
     "end_time": "2024-11-22T15:43:05.215771",
     "exception": false,
     "start_time": "2024-11-22T15:43:05.209749",
     "status": "completed"
    },
    "tags": []
   },
   "source": [
    "Locate the JSON file containing the companies' information."
   ]
  },
  {
   "cell_type": "code",
   "execution_count": 8,
   "id": "30b3f610",
   "metadata": {
    "execution": {
     "iopub.execute_input": "2024-11-22T15:43:05.229115Z",
     "iopub.status.busy": "2024-11-22T15:43:05.228867Z",
     "iopub.status.idle": "2024-11-22T15:43:05.234582Z",
     "shell.execute_reply": "2024-11-22T15:43:05.233407Z"
    },
    "papermill": {
     "duration": 0.014376,
     "end_time": "2024-11-22T15:43:05.236332",
     "exception": false,
     "start_time": "2024-11-22T15:43:05.221956",
     "status": "completed"
    },
    "tags": []
   },
   "outputs": [
    {
     "name": "stdout",
     "output_type": "stream",
     "text": [
      "The file /kaggle/working/companies_info/companies_info.json will be used for the information regarding the companies\n"
     ]
    }
   ],
   "source": [
    "import os\n",
    "\n",
    "# if the JSON file is given as Kaggle Input (for example, manually uploaded), change the use_kaggle_input to True\n",
    "use_kaggle_input_companies = False if os.path.exists('/kaggle/working/companies_info') else True\n",
    "companies_json_name = 'companies_info.json'\n",
    "if use_kaggle_input_companies:\n",
    "    companies_info_file_path = os.path.join('/kaggle/input/companies-info', companies_json_name)\n",
    "else:\n",
    "    companies_info_file_path = os.path.join('/kaggle/working/companies_info', companies_json_name)\n",
    "\n",
    "print(f\"The file {companies_info_file_path} will be used for the information regarding the companies\")"
   ]
  },
  {
   "cell_type": "markdown",
   "id": "8c7ad16a",
   "metadata": {
    "papermill": {
     "duration": 0.008086,
     "end_time": "2024-11-22T15:43:05.251897",
     "exception": false,
     "start_time": "2024-11-22T15:43:05.243811",
     "status": "completed"
    },
    "tags": []
   },
   "source": [
    "Define a small function to read the information about the companies - in JSON format."
   ]
  },
  {
   "cell_type": "code",
   "execution_count": 9,
   "id": "2f97a14f",
   "metadata": {
    "execution": {
     "iopub.execute_input": "2024-11-22T15:43:05.265905Z",
     "iopub.status.busy": "2024-11-22T15:43:05.265633Z",
     "iopub.status.idle": "2024-11-22T15:43:05.269927Z",
     "shell.execute_reply": "2024-11-22T15:43:05.269191Z"
    },
    "papermill": {
     "duration": 0.013014,
     "end_time": "2024-11-22T15:43:05.271494",
     "exception": false,
     "start_time": "2024-11-22T15:43:05.258480",
     "status": "completed"
    },
    "tags": []
   },
   "outputs": [],
   "source": [
    "import json\n",
    "\n",
    "def read_companies_info(jsonFilePath: str) -> dict:\n",
    "    if os.path.exists(jsonFilePath):\n",
    "        with open(jsonFilePath, \"r\") as f:\n",
    "            data = json.load(f)\n",
    "        return data\n",
    "    else:\n",
    "        return {}"
   ]
  },
  {
   "cell_type": "markdown",
   "id": "6b7e72a6",
   "metadata": {
    "papermill": {
     "duration": 0.006131,
     "end_time": "2024-11-22T15:43:05.284043",
     "exception": false,
     "start_time": "2024-11-22T15:43:05.277912",
     "status": "completed"
    },
    "tags": []
   },
   "source": [
    "Load the companies' information by using the defined function."
   ]
  },
  {
   "cell_type": "code",
   "execution_count": 10,
   "id": "b1b48435",
   "metadata": {
    "execution": {
     "iopub.execute_input": "2024-11-22T15:43:05.298823Z",
     "iopub.status.busy": "2024-11-22T15:43:05.298576Z",
     "iopub.status.idle": "2024-11-22T15:43:05.365487Z",
     "shell.execute_reply": "2024-11-22T15:43:05.364585Z"
    },
    "papermill": {
     "duration": 0.07627,
     "end_time": "2024-11-22T15:43:05.367725",
     "exception": false,
     "start_time": "2024-11-22T15:43:05.291455",
     "status": "completed"
    },
    "tags": []
   },
   "outputs": [],
   "source": [
    "companies_info = read_companies_info(companies_info_file_path)\n",
    "\n",
    "# companies_info is a dictionary, where the key is the name of the company and the related value its information\n",
    "# print(companies_info[\"SIEMENS\"]) "
   ]
  },
  {
   "cell_type": "markdown",
   "id": "2b742c1d",
   "metadata": {
    "papermill": {
     "duration": 0.008232,
     "end_time": "2024-11-22T15:43:05.388667",
     "exception": false,
     "start_time": "2024-11-22T15:43:05.380435",
     "status": "completed"
    },
    "tags": []
   },
   "source": [
    "# Chat with Gemini"
   ]
  },
  {
   "cell_type": "code",
   "execution_count": 11,
   "id": "c7dad080",
   "metadata": {
    "execution": {
     "iopub.execute_input": "2024-11-22T15:43:05.405162Z",
     "iopub.status.busy": "2024-11-22T15:43:05.404760Z",
     "iopub.status.idle": "2024-11-22T15:43:06.350514Z",
     "shell.execute_reply": "2024-11-22T15:43:06.349804Z"
    },
    "papermill": {
     "duration": 0.956984,
     "end_time": "2024-11-22T15:43:06.352518",
     "exception": false,
     "start_time": "2024-11-22T15:43:05.395534",
     "status": "completed"
    },
    "tags": []
   },
   "outputs": [],
   "source": [
    "# API key got here: https://ai.google.dev/tutorials/setup\n",
    "\n",
    "import google.generativeai as genai\n",
    "from kaggle_secrets import UserSecretsClient\n",
    "\n",
    "\n",
    "user_secrets = UserSecretsClient()\n",
    "secret_key = user_secrets.get_secret(\"GEMINI_API_KEY\")\n",
    "\n",
    "genai.configure(api_key = secret_key)\n",
    "\n",
    "model = genai.GenerativeModel(model_name='gemini-1.5-pro-latest')\n",
    "\n",
    "chat = model.start_chat()\n",
    "\n",
    "# example how to send prompts\n",
    "# response = chat.send_message('Hi! What about competing on Kaggle?')\n",
    "# print(response.text)"
   ]
  },
  {
   "cell_type": "markdown",
   "id": "dedfaa11",
   "metadata": {
    "papermill": {
     "duration": 0.006022,
     "end_time": "2024-11-22T15:43:06.365008",
     "exception": false,
     "start_time": "2024-11-22T15:43:06.358986",
     "status": "completed"
    },
    "tags": []
   },
   "source": [
    "## Define the system and user prompts"
   ]
  },
  {
   "cell_type": "code",
   "execution_count": 12,
   "id": "f8f7ec67",
   "metadata": {
    "execution": {
     "iopub.execute_input": "2024-11-22T15:43:06.379327Z",
     "iopub.status.busy": "2024-11-22T15:43:06.378981Z",
     "iopub.status.idle": "2024-11-22T15:43:06.382600Z",
     "shell.execute_reply": "2024-11-22T15:43:06.381935Z"
    },
    "papermill": {
     "duration": 0.01291,
     "end_time": "2024-11-22T15:43:06.384223",
     "exception": false,
     "start_time": "2024-11-22T15:43:06.371313",
     "status": "completed"
    },
    "tags": []
   },
   "outputs": [],
   "source": [
    "system_prompt = \"You are an experienced technical sales manager. You are given the content of websites of companies with their portfolio for products and solutions. Use the content of the websites to provide detailed technical answers based on tender requirements and user prompt.\"\n",
    "# print(f\"The system prompt is:\\n{system_prompt}\")"
   ]
  },
  {
   "cell_type": "code",
   "execution_count": 13,
   "id": "912b237c",
   "metadata": {
    "execution": {
     "iopub.execute_input": "2024-11-22T15:43:06.397608Z",
     "iopub.status.busy": "2024-11-22T15:43:06.397304Z",
     "iopub.status.idle": "2024-11-22T15:43:06.411595Z",
     "shell.execute_reply": "2024-11-22T15:43:06.410917Z"
    },
    "papermill": {
     "duration": 0.022623,
     "end_time": "2024-11-22T15:43:06.413153",
     "exception": false,
     "start_time": "2024-11-22T15:43:06.390530",
     "status": "completed"
    },
    "tags": []
   },
   "outputs": [],
   "source": [
    "user_prompt = f\"\"\"\n",
    "\n",
    "I want to build the whole plant as per tender technical requirements {tender_info}.\n",
    "\n",
    "1. Analyse and identify all the technical requirements in the tender.\n",
    "\n",
    "2. For company [SIEMENS] and [HITACHI], find the respective relevant products and solutions with respect to point 1. Do this one company at a time and store the results.\n",
    "\n",
    "3. Calculate an affinity score in % of company [SIEMENS] and [HITACHI] based on the match of results in point 2.\n",
    "\n",
    "SIEMENS: {companies_info[\"SIEMENS\"]}\n",
    "HITACHI: {companies_info[\"HITACHI\"]}\n",
    "\n",
    "4. Return a quick technical summary of the tender.\n",
    "\n",
    "5. Return the technical details of the company with the highest affinity score and its score. Focus on the technical specifications mentioning the compliances with the tender. Report also the URL of the source where you found the informations and mention if there is some non compliant requirements from tender.\n",
    "\n",
    "6. Return also the other affinity scores alone of the other companies. \n",
    "\n",
    "\"\"\"\n",
    "\n",
    "# print(f\"The user prompt is:\\n{user_prompt}\")"
   ]
  },
  {
   "cell_type": "markdown",
   "id": "b43aef0e",
   "metadata": {
    "papermill": {
     "duration": 0.006035,
     "end_time": "2024-11-22T15:43:06.425443",
     "exception": false,
     "start_time": "2024-11-22T15:43:06.419408",
     "status": "completed"
    },
    "tags": []
   },
   "source": [
    "## Check how many tokens are needed to process the prompts"
   ]
  },
  {
   "cell_type": "code",
   "execution_count": 14,
   "id": "f0df94e0",
   "metadata": {
    "execution": {
     "iopub.execute_input": "2024-11-22T15:43:06.438867Z",
     "iopub.status.busy": "2024-11-22T15:43:06.438642Z",
     "iopub.status.idle": "2024-11-22T15:43:06.481757Z",
     "shell.execute_reply": "2024-11-22T15:43:06.480851Z"
    },
    "papermill": {
     "duration": 0.05165,
     "end_time": "2024-11-22T15:43:06.483299",
     "exception": false,
     "start_time": "2024-11-22T15:43:06.431649",
     "status": "completed"
    },
    "tags": []
   },
   "outputs": [
    {
     "name": "stdout",
     "output_type": "stream",
     "text": [
      "Number of tokens (words): 418352\n"
     ]
    }
   ],
   "source": [
    "# Split the prompt into words (tokens)\n",
    "tokens = user_prompt.split()\n",
    "\n",
    "# Count the number of tokens\n",
    "num_tokens = len(tokens)\n",
    "print(f\"Number of tokens (words): {num_tokens}\")"
   ]
  },
  {
   "cell_type": "markdown",
   "id": "b9b2cd12",
   "metadata": {
    "papermill": {
     "duration": 0.005965,
     "end_time": "2024-11-22T15:43:06.495628",
     "exception": false,
     "start_time": "2024-11-22T15:43:06.489663",
     "status": "completed"
    },
    "tags": []
   },
   "source": [
    "## Generate a response"
   ]
  },
  {
   "cell_type": "code",
   "execution_count": 15,
   "id": "a7e694eb",
   "metadata": {
    "execution": {
     "iopub.execute_input": "2024-11-22T15:43:06.509169Z",
     "iopub.status.busy": "2024-11-22T15:43:06.508955Z",
     "iopub.status.idle": "2024-11-22T15:43:06.512733Z",
     "shell.execute_reply": "2024-11-22T15:43:06.511943Z"
    },
    "papermill": {
     "duration": 0.012212,
     "end_time": "2024-11-22T15:43:06.514238",
     "exception": false,
     "start_time": "2024-11-22T15:43:06.502026",
     "status": "completed"
    },
    "tags": []
   },
   "outputs": [],
   "source": [
    "want_a_response = False # disable if willing to save a notebook but the Gemini quota has been exhausted\n",
    "\n",
    "if want_a_response:\n",
    "    response = chat.send_message(system_prompt + user_prompt)\n",
    "    print(response.text)"
   ]
  },
  {
   "cell_type": "markdown",
   "id": "1ecd1d36",
   "metadata": {
    "papermill": {
     "duration": 0.006005,
     "end_time": "2024-11-22T15:43:06.526568",
     "exception": false,
     "start_time": "2024-11-22T15:43:06.520563",
     "status": "completed"
    },
    "tags": []
   },
   "source": [
    "## Check how many tokens have been used so far"
   ]
  },
  {
   "cell_type": "code",
   "execution_count": 16,
   "id": "2f5c8881",
   "metadata": {
    "execution": {
     "iopub.execute_input": "2024-11-22T15:43:06.540198Z",
     "iopub.status.busy": "2024-11-22T15:43:06.539988Z",
     "iopub.status.idle": "2024-11-22T15:43:06.543400Z",
     "shell.execute_reply": "2024-11-22T15:43:06.542690Z"
    },
    "papermill": {
     "duration": 0.01191,
     "end_time": "2024-11-22T15:43:06.544866",
     "exception": false,
     "start_time": "2024-11-22T15:43:06.532956",
     "status": "completed"
    },
    "tags": []
   },
   "outputs": [],
   "source": [
    "if want_a_response:\n",
    "    usage_metadata = response.usage_metadata\n",
    "    print(f\"Token count: {usage_metadata.total_token_count}\")"
   ]
  },
  {
   "cell_type": "code",
   "execution_count": null,
   "id": "d0ea014b",
   "metadata": {
    "papermill": {
     "duration": 0.006221,
     "end_time": "2024-11-22T15:43:06.557470",
     "exception": false,
     "start_time": "2024-11-22T15:43:06.551249",
     "status": "completed"
    },
    "tags": []
   },
   "outputs": [],
   "source": []
  },
  {
   "cell_type": "code",
   "execution_count": null,
   "id": "57077d68",
   "metadata": {
    "papermill": {
     "duration": 0.006064,
     "end_time": "2024-11-22T15:43:06.570013",
     "exception": false,
     "start_time": "2024-11-22T15:43:06.563949",
     "status": "completed"
    },
    "tags": []
   },
   "outputs": [],
   "source": []
  },
  {
   "cell_type": "code",
   "execution_count": null,
   "id": "acabe97a",
   "metadata": {
    "papermill": {
     "duration": 0.006138,
     "end_time": "2024-11-22T15:43:06.582704",
     "exception": false,
     "start_time": "2024-11-22T15:43:06.576566",
     "status": "completed"
    },
    "tags": []
   },
   "outputs": [],
   "source": []
  },
  {
   "cell_type": "code",
   "execution_count": null,
   "id": "d320c477",
   "metadata": {
    "papermill": {
     "duration": 0.006021,
     "end_time": "2024-11-22T15:43:06.594997",
     "exception": false,
     "start_time": "2024-11-22T15:43:06.588976",
     "status": "completed"
    },
    "tags": []
   },
   "outputs": [],
   "source": []
  },
  {
   "cell_type": "code",
   "execution_count": null,
   "id": "ce3dcd3b",
   "metadata": {
    "papermill": {
     "duration": 0.006098,
     "end_time": "2024-11-22T15:43:06.607320",
     "exception": false,
     "start_time": "2024-11-22T15:43:06.601222",
     "status": "completed"
    },
    "tags": []
   },
   "outputs": [],
   "source": []
  },
  {
   "cell_type": "code",
   "execution_count": null,
   "id": "2b711cc7",
   "metadata": {
    "papermill": {
     "duration": 0.006131,
     "end_time": "2024-11-22T15:43:06.619827",
     "exception": false,
     "start_time": "2024-11-22T15:43:06.613696",
     "status": "completed"
    },
    "tags": []
   },
   "outputs": [],
   "source": []
  },
  {
   "cell_type": "code",
   "execution_count": null,
   "id": "5dc41e3d",
   "metadata": {
    "papermill": {
     "duration": 0.006058,
     "end_time": "2024-11-22T15:43:06.632224",
     "exception": false,
     "start_time": "2024-11-22T15:43:06.626166",
     "status": "completed"
    },
    "tags": []
   },
   "outputs": [],
   "source": []
  },
  {
   "cell_type": "code",
   "execution_count": null,
   "id": "e9730c8c",
   "metadata": {
    "papermill": {
     "duration": 0.006047,
     "end_time": "2024-11-22T15:43:06.644554",
     "exception": false,
     "start_time": "2024-11-22T15:43:06.638507",
     "status": "completed"
    },
    "tags": []
   },
   "outputs": [],
   "source": []
  },
  {
   "cell_type": "code",
   "execution_count": null,
   "id": "7d3c27bd",
   "metadata": {
    "papermill": {
     "duration": 0.005972,
     "end_time": "2024-11-22T15:43:06.656729",
     "exception": false,
     "start_time": "2024-11-22T15:43:06.650757",
     "status": "completed"
    },
    "tags": []
   },
   "outputs": [],
   "source": []
  },
  {
   "cell_type": "code",
   "execution_count": null,
   "id": "c4a68855",
   "metadata": {
    "papermill": {
     "duration": 0.005978,
     "end_time": "2024-11-22T15:43:06.669256",
     "exception": false,
     "start_time": "2024-11-22T15:43:06.663278",
     "status": "completed"
    },
    "tags": []
   },
   "outputs": [],
   "source": []
  },
  {
   "cell_type": "code",
   "execution_count": null,
   "id": "66b275b8",
   "metadata": {
    "papermill": {
     "duration": 0.006025,
     "end_time": "2024-11-22T15:43:06.681466",
     "exception": false,
     "start_time": "2024-11-22T15:43:06.675441",
     "status": "completed"
    },
    "tags": []
   },
   "outputs": [],
   "source": []
  },
  {
   "cell_type": "code",
   "execution_count": null,
   "id": "66c9080d",
   "metadata": {
    "papermill": {
     "duration": 0.005983,
     "end_time": "2024-11-22T15:43:06.693627",
     "exception": false,
     "start_time": "2024-11-22T15:43:06.687644",
     "status": "completed"
    },
    "tags": []
   },
   "outputs": [],
   "source": []
  },
  {
   "cell_type": "code",
   "execution_count": null,
   "id": "eff281ad",
   "metadata": {
    "papermill": {
     "duration": 0.006024,
     "end_time": "2024-11-22T15:43:06.705863",
     "exception": false,
     "start_time": "2024-11-22T15:43:06.699839",
     "status": "completed"
    },
    "tags": []
   },
   "outputs": [],
   "source": []
  }
 ],
 "metadata": {
  "kaggle": {
   "accelerator": "gpu",
   "dataSources": [],
   "dockerImageVersionId": 30786,
   "isGpuEnabled": true,
   "isInternetEnabled": true,
   "language": "python",
   "sourceType": "notebook"
  },
  "kernelspec": {
   "display_name": "Python 3",
   "language": "python",
   "name": "python3"
  },
  "language_info": {
   "codemirror_mode": {
    "name": "ipython",
    "version": 3
   },
   "file_extension": ".py",
   "mimetype": "text/x-python",
   "name": "python",
   "nbconvert_exporter": "python",
   "pygments_lexer": "ipython3",
   "version": "3.10.14"
  },
  "papermill": {
   "default_parameters": {},
   "duration": 19.252056,
   "end_time": "2024-11-22T15:43:07.129384",
   "environment_variables": {},
   "exception": null,
   "input_path": "__notebook__.ipynb",
   "output_path": "__notebook__.ipynb",
   "parameters": {},
   "start_time": "2024-11-22T15:42:47.877328",
   "version": "2.6.0"
  }
 },
 "nbformat": 4,
 "nbformat_minor": 5
}
