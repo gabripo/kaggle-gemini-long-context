{
 "cells": [
  {
   "cell_type": "markdown",
   "id": "d20be398",
   "metadata": {
    "papermill": {
     "duration": 0.006835,
     "end_time": "2024-11-22T16:09:26.441083",
     "exception": false,
     "start_time": "2024-11-22T16:09:26.434248",
     "status": "completed"
    },
    "tags": []
   },
   "source": [
    "# Tender2Project\n",
    "The following Kaggle notebook exploits the long context window of Gemini, in order to fulfill the following targets:\n",
    "- Analyze the tender for a project.\n",
    "- Analyze the information about possible products, provided from different companies.\n",
    "- Find the best combination of products to build the project in the tender, identifying the most compliant company as well.\n",
    "\n",
    "## Notebook structure\n",
    "The notebook is composed by different parts, each one with a specific target:\n",
    "- A tender for a project is parsed, such that its information is converted to text.\n",
    "- Information scraped from the websites of different companies is loaded as text.\n",
    "- All the text is forwarded to Gemini, whereas a system prompt and a user prompt are written to explain the purposed o Gemini.\n",
    "\n",
    "## Theoretical aspects\n",
    "The current way to use Gemini makes use of the following properties of a LLM (Large Language Model) like Gemini:\n",
    "|  **LLM property** | **Where it is used** | **How it is used** |\n",
    "|:-----------------:|:--------------------:|:------------------:|\n",
    "|     Reasoning     |          TBD         |         TBD        |\n",
    "|       Memory      |          TBD         |         TBD        |\n",
    "| Chain of Thoughts |          TBD         |         TBD        |\n",
    "|                   |                      |                    |"
   ]
  },
  {
   "cell_type": "markdown",
   "id": "8a0df1bd",
   "metadata": {
    "papermill": {
     "duration": 0.005187,
     "end_time": "2024-11-22T16:09:26.452979",
     "exception": false,
     "start_time": "2024-11-22T16:09:26.447792",
     "status": "completed"
    },
    "tags": []
   },
   "source": [
    "Clean the working directory"
   ]
  },
  {
   "cell_type": "code",
   "execution_count": 1,
   "id": "09a8f33d",
   "metadata": {
    "execution": {
     "iopub.execute_input": "2024-11-22T16:09:26.464903Z",
     "iopub.status.busy": "2024-11-22T16:09:26.464597Z",
     "iopub.status.idle": "2024-11-22T16:09:27.474099Z",
     "shell.execute_reply": "2024-11-22T16:09:27.472876Z"
    },
    "papermill": {
     "duration": 1.018282,
     "end_time": "2024-11-22T16:09:27.476655",
     "exception": false,
     "start_time": "2024-11-22T16:09:26.458373",
     "status": "completed"
    },
    "tags": []
   },
   "outputs": [],
   "source": [
    "! rm -r /kaggle/working/*"
   ]
  },
  {
   "cell_type": "markdown",
   "id": "15212341",
   "metadata": {
    "papermill": {
     "duration": 0.005391,
     "end_time": "2024-11-22T16:09:27.487814",
     "exception": false,
     "start_time": "2024-11-22T16:09:27.482423",
     "status": "completed"
    },
    "tags": []
   },
   "source": [
    "# Analyze the tenders"
   ]
  },
  {
   "cell_type": "markdown",
   "id": "ed9eb6ba",
   "metadata": {
    "papermill": {
     "duration": 0.005217,
     "end_time": "2024-11-22T16:09:27.498512",
     "exception": false,
     "start_time": "2024-11-22T16:09:27.493295",
     "status": "completed"
    },
    "tags": []
   },
   "source": [
    "Locate the tenders - in PDF format."
   ]
  },
  {
   "cell_type": "code",
   "execution_count": 2,
   "id": "3e530637",
   "metadata": {
    "execution": {
     "iopub.execute_input": "2024-11-22T16:09:27.511107Z",
     "iopub.status.busy": "2024-11-22T16:09:27.510485Z",
     "iopub.status.idle": "2024-11-22T16:09:28.731458Z",
     "shell.execute_reply": "2024-11-22T16:09:28.730634Z"
    },
    "papermill": {
     "duration": 1.229463,
     "end_time": "2024-11-22T16:09:28.733435",
     "exception": false,
     "start_time": "2024-11-22T16:09:27.503972",
     "status": "completed"
    },
    "tags": []
   },
   "outputs": [
    {
     "name": "stdout",
     "output_type": "stream",
     "text": [
      "--2024-11-22 16:09:28--  https://raw.githubusercontent.com/gabripo/kaggle-gemini-long-context/refs/heads/main/github_downloader.py\r\n",
      "Resolving raw.githubusercontent.com (raw.githubusercontent.com)... 185.199.110.133, 185.199.109.133, 185.199.108.133, ...\r\n",
      "Connecting to raw.githubusercontent.com (raw.githubusercontent.com)|185.199.110.133|:443... connected.\r\n",
      "HTTP request sent, awaiting response... 200 OK\r\n",
      "Length: 1722 (1.7K) [text/plain]\r\n",
      "Saving to: '/kaggle/working/scripts/github_downloader.py'\r\n",
      "\r\n",
      "github_downloader.p 100%[===================>]   1.68K  --.-KB/s    in 0s      \r\n",
      "\r\n",
      "2024-11-22 16:09:28 (42.7 MB/s) - '/kaggle/working/scripts/github_downloader.py' saved [1722/1722]\r\n",
      "\r\n"
     ]
    }
   ],
   "source": [
    "# fetch the script to download content from GitHub\n",
    "!wget https://raw.githubusercontent.com/gabripo/kaggle-gemini-long-context/refs/heads/main/github_downloader.py -P /kaggle/working/scripts\n",
    "\n",
    "# add downloaded script to the Python path\n",
    "import sys\n",
    "sys.path.append('/kaggle/working/scripts')"
   ]
  },
  {
   "cell_type": "code",
   "execution_count": 3,
   "id": "5c8ba62d",
   "metadata": {
    "execution": {
     "iopub.execute_input": "2024-11-22T16:09:28.746457Z",
     "iopub.status.busy": "2024-11-22T16:09:28.746068Z",
     "iopub.status.idle": "2024-11-22T16:09:29.537252Z",
     "shell.execute_reply": "2024-11-22T16:09:29.536123Z"
    },
    "papermill": {
     "duration": 0.799774,
     "end_time": "2024-11-22T16:09:29.539162",
     "exception": false,
     "start_time": "2024-11-22T16:09:28.739388",
     "status": "completed"
    },
    "tags": []
   },
   "outputs": [
    {
     "name": "stdout",
     "output_type": "stream",
     "text": [
      "Downloading tender_solar.pdf...\n",
      "/kaggle/working/tenders/tender_solar.pdf downloaded successfully.\n",
      "Downloading tender_wind.pdf...\n",
      "/kaggle/working/tenders/tender_wind.pdf downloaded successfully.\n",
      "All files downloaded.\n"
     ]
    }
   ],
   "source": [
    "import github_downloader\n",
    "\n",
    "github_downloader.download_files_from_github_repo(folderName=\"tenders\", saveFolder=\"/kaggle/working/tenders\", extension=\"pdf\")"
   ]
  },
  {
   "cell_type": "code",
   "execution_count": 4,
   "id": "67688fa9",
   "metadata": {
    "execution": {
     "iopub.execute_input": "2024-11-22T16:09:29.551890Z",
     "iopub.status.busy": "2024-11-22T16:09:29.551604Z",
     "iopub.status.idle": "2024-11-22T16:09:29.556611Z",
     "shell.execute_reply": "2024-11-22T16:09:29.555765Z"
    },
    "papermill": {
     "duration": 0.013175,
     "end_time": "2024-11-22T16:09:29.558317",
     "exception": false,
     "start_time": "2024-11-22T16:09:29.545142",
     "status": "completed"
    },
    "tags": []
   },
   "outputs": [
    {
     "name": "stdout",
     "output_type": "stream",
     "text": [
      "The folder /kaggle/working/tenders will be considered as containing the tenders\n"
     ]
    }
   ],
   "source": [
    "import os\n",
    "\n",
    "# if the PDF file is given as Kaggle Input (for example, manually uploaded), change the use_kaggle_input to True\n",
    "use_kaggle_input_tender = False if os.path.exists('/kaggle/working/tenders') else True\n",
    "if use_kaggle_input_tender:\n",
    "    tenders_file_path = '/kaggle/input/tenders'\n",
    "else:\n",
    "    tenders_file_path = '/kaggle/working/tenders'\n",
    "\n",
    "print(f\"The folder {tenders_file_path} will be considered as containing the tenders\")"
   ]
  },
  {
   "cell_type": "markdown",
   "id": "0a19ec2a",
   "metadata": {
    "papermill": {
     "duration": 0.005838,
     "end_time": "2024-11-22T16:09:29.569863",
     "exception": false,
     "start_time": "2024-11-22T16:09:29.564025",
     "status": "completed"
    },
    "tags": []
   },
   "source": [
    "Installing required Python packages to analyze the tender - in PDF format."
   ]
  },
  {
   "cell_type": "code",
   "execution_count": 5,
   "id": "0ced8310",
   "metadata": {
    "execution": {
     "iopub.execute_input": "2024-11-22T16:09:29.582491Z",
     "iopub.status.busy": "2024-11-22T16:09:29.582217Z",
     "iopub.status.idle": "2024-11-22T16:09:39.007708Z",
     "shell.execute_reply": "2024-11-22T16:09:39.006816Z"
    },
    "papermill": {
     "duration": 9.434292,
     "end_time": "2024-11-22T16:09:39.009877",
     "exception": false,
     "start_time": "2024-11-22T16:09:29.575585",
     "status": "completed"
    },
    "tags": []
   },
   "outputs": [
    {
     "name": "stdout",
     "output_type": "stream",
     "text": [
      "Collecting PyPDF2\r\n",
      "  Downloading pypdf2-3.0.1-py3-none-any.whl.metadata (6.8 kB)\r\n",
      "Downloading pypdf2-3.0.1-py3-none-any.whl (232 kB)\r\n",
      "\u001b[2K   \u001b[90m━━━━━━━━━━━━━━━━━━━━━━━━━━━━━━━━━━━━━━━━\u001b[0m \u001b[32m232.6/232.6 kB\u001b[0m \u001b[31m8.7 MB/s\u001b[0m eta \u001b[36m0:00:00\u001b[0m\r\n",
      "\u001b[?25hInstalling collected packages: PyPDF2\r\n",
      "Successfully installed PyPDF2-3.0.1\r\n"
     ]
    }
   ],
   "source": [
    "!pip install PyPDF2"
   ]
  },
  {
   "cell_type": "markdown",
   "id": "b0689668",
   "metadata": {
    "papermill": {
     "duration": 0.005924,
     "end_time": "2024-11-22T16:09:39.022221",
     "exception": false,
     "start_time": "2024-11-22T16:09:39.016297",
     "status": "completed"
    },
    "tags": []
   },
   "source": [
    "Extract information from the tenders.\n",
    "The output will be a text."
   ]
  },
  {
   "cell_type": "code",
   "execution_count": 6,
   "id": "dfb0e473",
   "metadata": {
    "execution": {
     "iopub.execute_input": "2024-11-22T16:09:39.036130Z",
     "iopub.status.busy": "2024-11-22T16:09:39.035375Z",
     "iopub.status.idle": "2024-11-22T16:09:40.496645Z",
     "shell.execute_reply": "2024-11-22T16:09:40.495945Z"
    },
    "papermill": {
     "duration": 1.470329,
     "end_time": "2024-11-22T16:09:40.498693",
     "exception": false,
     "start_time": "2024-11-22T16:09:39.028364",
     "status": "completed"
    },
    "tags": []
   },
   "outputs": [
    {
     "name": "stdout",
     "output_type": "stream",
     "text": [
      "Reading the tender tender_solar.pdf ...\n",
      "Reading the tender tender_wind.pdf ...\n"
     ]
    }
   ],
   "source": [
    "import os\n",
    "from PyPDF2 import PdfReader\n",
    "\n",
    "tenders = [t for t in os.listdir(tenders_file_path) if t.endswith(\".pdf\")]\n",
    "tenders_info = {}\n",
    "for tender in tenders:\n",
    "    print(f\"Reading the tender {tender} ...\")\n",
    "    reader = PdfReader(os.path.join(tenders_file_path, tender))\n",
    "\n",
    "    tenders_info[tender] = {}\n",
    "    tenders_info[tender][\"name\"] = tender\n",
    "    tenders_info[tender][\"content\"] = \"\\n\".join([page.extract_text() for page in reader.pages])\n",
    "\n",
    "# information for each tender can be accessed by:\n",
    "# tenders_info[tenders[0]]"
   ]
  },
  {
   "cell_type": "markdown",
   "id": "d615c3e2",
   "metadata": {
    "papermill": {
     "duration": 0.005892,
     "end_time": "2024-11-22T16:09:40.511214",
     "exception": false,
     "start_time": "2024-11-22T16:09:40.505322",
     "status": "completed"
    },
    "tags": []
   },
   "source": [
    "# Fetch information about companies"
   ]
  },
  {
   "cell_type": "markdown",
   "id": "d5106d73",
   "metadata": {
    "papermill": {
     "duration": 0.005731,
     "end_time": "2024-11-22T16:09:40.522957",
     "exception": false,
     "start_time": "2024-11-22T16:09:40.517226",
     "status": "completed"
    },
    "tags": []
   },
   "source": [
    "## Overview\n",
    "Information about interesting companies is obtained from their websites.\n",
    "\n",
    "To generate data out of the companies' websites, we implemented a crawler.\n",
    "The final output of the crawler is a JSON file, in which each field refers to a company: for each company, all the information of the websites is merged.\n",
    "\n",
    "> To make things easier, the mentioned JSON file will be fetched from a Git repository where the crawling function has already been executed.\n",
    "\n",
    "## Details about the crawling process:\n",
    "- **Recursive scan**: after a webpage is scanned and its content is stored, eventual found sublinks are scanned, as well. A limit of the wepages to download is given as input.\n",
    "- **Redundant information is deleted**: if some website content can be found multiple times in all the webpages of one company, then it is skipped. *Example*: undesired and redundant lines like \"Contact Us\" are removed, ensuring that the final content does not include unnecessary sentences.\n",
    "- **Caching of already downloaded pages**: for each webpage, the content is stored in a JSON file, as well as the found sublinks. *Example*: after a run with a limit of N pages, other runs with less than N pages will use the stored files instead downloading data from internet; at the contrary, if the limit is increased to M > N pages, only M - N additional pages will be downloaded while the first N pages will be taken from the stored file."
   ]
  },
  {
   "cell_type": "markdown",
   "id": "ba331047",
   "metadata": {
    "papermill": {
     "duration": 0.005831,
     "end_time": "2024-11-22T16:09:40.534744",
     "exception": false,
     "start_time": "2024-11-22T16:09:40.528913",
     "status": "completed"
    },
    "tags": []
   },
   "source": [
    "## Load the results from the crawler's repo"
   ]
  },
  {
   "cell_type": "code",
   "execution_count": 7,
   "id": "0a33839e",
   "metadata": {
    "execution": {
     "iopub.execute_input": "2024-11-22T16:09:40.548082Z",
     "iopub.status.busy": "2024-11-22T16:09:40.547790Z",
     "iopub.status.idle": "2024-11-22T16:09:41.215824Z",
     "shell.execute_reply": "2024-11-22T16:09:41.214852Z"
    },
    "papermill": {
     "duration": 0.676902,
     "end_time": "2024-11-22T16:09:41.217690",
     "exception": false,
     "start_time": "2024-11-22T16:09:40.540788",
     "status": "completed"
    },
    "tags": []
   },
   "outputs": [
    {
     "name": "stdout",
     "output_type": "stream",
     "text": [
      "Downloading companies_info.json...\n",
      "/kaggle/working/companies_info/companies_info.json downloaded successfully.\n",
      "All files downloaded.\n"
     ]
    }
   ],
   "source": [
    "github_downloader.download_files_from_github_repo(folderName=\"\", saveFolder=\"/kaggle/working/companies_info\", extension=\"json\")"
   ]
  },
  {
   "cell_type": "markdown",
   "id": "6b1d1ba1",
   "metadata": {
    "papermill": {
     "duration": 0.005934,
     "end_time": "2024-11-22T16:09:41.230107",
     "exception": false,
     "start_time": "2024-11-22T16:09:41.224173",
     "status": "completed"
    },
    "tags": []
   },
   "source": [
    "Locate the JSON file containing the companies' information."
   ]
  },
  {
   "cell_type": "code",
   "execution_count": 8,
   "id": "d9c30326",
   "metadata": {
    "execution": {
     "iopub.execute_input": "2024-11-22T16:09:41.243664Z",
     "iopub.status.busy": "2024-11-22T16:09:41.243380Z",
     "iopub.status.idle": "2024-11-22T16:09:41.248707Z",
     "shell.execute_reply": "2024-11-22T16:09:41.247846Z"
    },
    "papermill": {
     "duration": 0.014033,
     "end_time": "2024-11-22T16:09:41.250271",
     "exception": false,
     "start_time": "2024-11-22T16:09:41.236238",
     "status": "completed"
    },
    "tags": []
   },
   "outputs": [
    {
     "name": "stdout",
     "output_type": "stream",
     "text": [
      "The file /kaggle/working/companies_info/companies_info.json will be used for the information regarding the companies\n"
     ]
    }
   ],
   "source": [
    "import os\n",
    "\n",
    "# if the JSON file is given as Kaggle Input (for example, manually uploaded), change the use_kaggle_input to True\n",
    "use_kaggle_input_companies = False if os.path.exists('/kaggle/working/companies_info') else True\n",
    "companies_json_name = 'companies_info.json'\n",
    "if use_kaggle_input_companies:\n",
    "    companies_info_file_path = os.path.join('/kaggle/input/companies-info', companies_json_name)\n",
    "else:\n",
    "    companies_info_file_path = os.path.join('/kaggle/working/companies_info', companies_json_name)\n",
    "\n",
    "print(f\"The file {companies_info_file_path} will be used for the information regarding the companies\")"
   ]
  },
  {
   "cell_type": "markdown",
   "id": "32760a89",
   "metadata": {
    "papermill": {
     "duration": 0.005957,
     "end_time": "2024-11-22T16:09:41.262471",
     "exception": false,
     "start_time": "2024-11-22T16:09:41.256514",
     "status": "completed"
    },
    "tags": []
   },
   "source": [
    "Define a small function to read the information about the companies - in JSON format."
   ]
  },
  {
   "cell_type": "code",
   "execution_count": 9,
   "id": "e7c2da23",
   "metadata": {
    "execution": {
     "iopub.execute_input": "2024-11-22T16:09:41.276154Z",
     "iopub.status.busy": "2024-11-22T16:09:41.275884Z",
     "iopub.status.idle": "2024-11-22T16:09:41.280252Z",
     "shell.execute_reply": "2024-11-22T16:09:41.279400Z"
    },
    "papermill": {
     "duration": 0.013223,
     "end_time": "2024-11-22T16:09:41.281893",
     "exception": false,
     "start_time": "2024-11-22T16:09:41.268670",
     "status": "completed"
    },
    "tags": []
   },
   "outputs": [],
   "source": [
    "import json\n",
    "\n",
    "def read_companies_info(jsonFilePath: str) -> dict:\n",
    "    if os.path.exists(jsonFilePath):\n",
    "        with open(jsonFilePath, \"r\") as f:\n",
    "            data = json.load(f)\n",
    "        return data\n",
    "    else:\n",
    "        return {}"
   ]
  },
  {
   "cell_type": "markdown",
   "id": "f103218e",
   "metadata": {
    "papermill": {
     "duration": 0.006052,
     "end_time": "2024-11-22T16:09:41.294271",
     "exception": false,
     "start_time": "2024-11-22T16:09:41.288219",
     "status": "completed"
    },
    "tags": []
   },
   "source": [
    "Load the companies' information by using the defined function."
   ]
  },
  {
   "cell_type": "code",
   "execution_count": 10,
   "id": "e6d032ef",
   "metadata": {
    "execution": {
     "iopub.execute_input": "2024-11-22T16:09:41.307625Z",
     "iopub.status.busy": "2024-11-22T16:09:41.307363Z",
     "iopub.status.idle": "2024-11-22T16:09:41.365920Z",
     "shell.execute_reply": "2024-11-22T16:09:41.365057Z"
    },
    "papermill": {
     "duration": 0.067389,
     "end_time": "2024-11-22T16:09:41.367927",
     "exception": false,
     "start_time": "2024-11-22T16:09:41.300538",
     "status": "completed"
    },
    "tags": []
   },
   "outputs": [],
   "source": [
    "companies_info = read_companies_info(companies_info_file_path)\n",
    "\n",
    "# companies_info is a dictionary, where the key is the name of the company and the related value its information\n",
    "# print(companies_info[\"SIEMENS\"]) "
   ]
  },
  {
   "cell_type": "markdown",
   "id": "a2bdc1d9",
   "metadata": {
    "papermill": {
     "duration": 0.005985,
     "end_time": "2024-11-22T16:09:41.380465",
     "exception": false,
     "start_time": "2024-11-22T16:09:41.374480",
     "status": "completed"
    },
    "tags": []
   },
   "source": [
    "# Chat with Gemini"
   ]
  },
  {
   "cell_type": "code",
   "execution_count": 11,
   "id": "d8294ebc",
   "metadata": {
    "execution": {
     "iopub.execute_input": "2024-11-22T16:09:41.393858Z",
     "iopub.status.busy": "2024-11-22T16:09:41.393588Z",
     "iopub.status.idle": "2024-11-22T16:09:42.347149Z",
     "shell.execute_reply": "2024-11-22T16:09:42.346234Z"
    },
    "papermill": {
     "duration": 0.962526,
     "end_time": "2024-11-22T16:09:42.349171",
     "exception": false,
     "start_time": "2024-11-22T16:09:41.386645",
     "status": "completed"
    },
    "tags": []
   },
   "outputs": [],
   "source": [
    "# API key got here: https://ai.google.dev/tutorials/setup\n",
    "\n",
    "import google.generativeai as genai\n",
    "from kaggle_secrets import UserSecretsClient\n",
    "\n",
    "\n",
    "user_secrets = UserSecretsClient()\n",
    "secret_key = user_secrets.get_secret(\"GEMINI_API_KEY\")\n",
    "\n",
    "genai.configure(api_key = secret_key)\n",
    "\n",
    "model = genai.GenerativeModel(model_name='gemini-1.5-pro-latest')\n",
    "\n",
    "chat = model.start_chat()\n",
    "\n",
    "# example how to send prompts\n",
    "# response = chat.send_message('Hi! What about competing on Kaggle?')\n",
    "# print(response.text)"
   ]
  },
  {
   "cell_type": "markdown",
   "id": "59d0cadc",
   "metadata": {
    "papermill": {
     "duration": 0.005954,
     "end_time": "2024-11-22T16:09:42.361756",
     "exception": false,
     "start_time": "2024-11-22T16:09:42.355802",
     "status": "completed"
    },
    "tags": []
   },
   "source": [
    "## Define the system and user prompts"
   ]
  },
  {
   "cell_type": "code",
   "execution_count": 12,
   "id": "e8f94436",
   "metadata": {
    "execution": {
     "iopub.execute_input": "2024-11-22T16:09:42.375346Z",
     "iopub.status.busy": "2024-11-22T16:09:42.374899Z",
     "iopub.status.idle": "2024-11-22T16:09:42.378810Z",
     "shell.execute_reply": "2024-11-22T16:09:42.378115Z"
    },
    "papermill": {
     "duration": 0.012564,
     "end_time": "2024-11-22T16:09:42.380478",
     "exception": false,
     "start_time": "2024-11-22T16:09:42.367914",
     "status": "completed"
    },
    "tags": []
   },
   "outputs": [],
   "source": [
    "system_prompt = \"You are an experienced technical sales manager. You are given the content of websites of companies with their portfolio for products and solutions. Use the content of the websites to provide detailed technical answers based on tender requirements and user prompt.\"\n",
    "# print(f\"The system prompt is:\\n{system_prompt}\")"
   ]
  },
  {
   "cell_type": "code",
   "execution_count": 13,
   "id": "7dd220d1",
   "metadata": {
    "execution": {
     "iopub.execute_input": "2024-11-22T16:09:42.393807Z",
     "iopub.status.busy": "2024-11-22T16:09:42.393519Z",
     "iopub.status.idle": "2024-11-22T16:09:42.397968Z",
     "shell.execute_reply": "2024-11-22T16:09:42.397176Z"
    },
    "papermill": {
     "duration": 0.012918,
     "end_time": "2024-11-22T16:09:42.399621",
     "exception": false,
     "start_time": "2024-11-22T16:09:42.386703",
     "status": "completed"
    },
    "tags": []
   },
   "outputs": [],
   "source": [
    "tender_prompt_template = \"The document you have is a tender, that contains technical requirements for a project. Summarize the technical requirements out of the following content of the document:\\n\"\n",
    "tender_prompts = []\n",
    "for info in tenders_info.values():\n",
    "    tender_prompts.append(f\"You have a document called {info['name']}. \" + tender_prompt_template + f\"{info['content']}\")"
   ]
  },
  {
   "cell_type": "code",
   "execution_count": 14,
   "id": "b4c471ba",
   "metadata": {
    "execution": {
     "iopub.execute_input": "2024-11-22T16:09:42.412852Z",
     "iopub.status.busy": "2024-11-22T16:09:42.412592Z",
     "iopub.status.idle": "2024-11-22T16:09:42.426658Z",
     "shell.execute_reply": "2024-11-22T16:09:42.425728Z"
    },
    "papermill": {
     "duration": 0.022436,
     "end_time": "2024-11-22T16:09:42.428215",
     "exception": false,
     "start_time": "2024-11-22T16:09:42.405779",
     "status": "completed"
    },
    "tags": []
   },
   "outputs": [],
   "source": [
    "user_prompt = f\"\"\"\n",
    "\n",
    "1. Analyse and identify all the technical requirements in the tender's information you have.\n",
    "\n",
    "2. For company [SIEMENS] and [HITACHI], find the respective relevant products and solutions with respect to point 1. Do this one company at a time and store the results.\n",
    "\n",
    "3. Calculate an affinity score in % of company [SIEMENS] and [HITACHI] based on the match of results in point 2.\n",
    "\n",
    "SIEMENS: {companies_info[\"SIEMENS\"]}\n",
    "HITACHI: {companies_info[\"HITACHI\"]}\n",
    "\n",
    "4. Return a quick technical summary of the tender.\n",
    "\n",
    "5. Return the technical details of the company with the highest affinity score and its score. Focus on the technical specifications mentioning the compliances with the tender. Report also the URL of the source where you found the informations and mention if there is some non compliant requirements from tender.\n",
    "\n",
    "6. Return also the other affinity scores alone of the other companies. \n",
    "\n",
    "\"\"\"\n",
    "\n",
    "# print(f\"The user prompt is:\\n{user_prompt}\")"
   ]
  },
  {
   "cell_type": "markdown",
   "id": "f16a347e",
   "metadata": {
    "papermill": {
     "duration": 0.005892,
     "end_time": "2024-11-22T16:09:42.440381",
     "exception": false,
     "start_time": "2024-11-22T16:09:42.434489",
     "status": "completed"
    },
    "tags": []
   },
   "source": [
    "## Generate a response"
   ]
  },
  {
   "cell_type": "code",
   "execution_count": 15,
   "id": "9fae99a9",
   "metadata": {
    "execution": {
     "iopub.execute_input": "2024-11-22T16:09:42.453503Z",
     "iopub.status.busy": "2024-11-22T16:09:42.453228Z",
     "iopub.status.idle": "2024-11-22T16:09:42.458035Z",
     "shell.execute_reply": "2024-11-22T16:09:42.457236Z"
    },
    "papermill": {
     "duration": 0.013109,
     "end_time": "2024-11-22T16:09:42.459538",
     "exception": false,
     "start_time": "2024-11-22T16:09:42.446429",
     "status": "completed"
    },
    "tags": []
   },
   "outputs": [],
   "source": [
    "want_a_response = False # disable if willing to save a notebook but the Gemini quota has been exhausted\n",
    "\n",
    "responses = []\n",
    "if want_a_response:\n",
    "    for tender_prompt in tender_prompts:\n",
    "        response = chat.send_message(tender_prompt)\n",
    "        # print(response.text)\n",
    "        responses.append((tender_prompt, response.text, response.usage_metadata))\n",
    "\n",
    "    # the Memory in Gemini will consider the previously generated summaries from the tenders\n",
    "    response = chat.send_message(system_prompt + user_prompt)\n",
    "    # print(response.text)\n",
    "    responses.append((system_prompt + user_prompt, response.text, response.usage_metadata))"
   ]
  },
  {
   "cell_type": "markdown",
   "id": "50bc4ce5",
   "metadata": {
    "papermill": {
     "duration": 0.005845,
     "end_time": "2024-11-22T16:09:42.471589",
     "exception": false,
     "start_time": "2024-11-22T16:09:42.465744",
     "status": "completed"
    },
    "tags": []
   },
   "source": [
    "## Check how many tokens have been used so far"
   ]
  },
  {
   "cell_type": "code",
   "execution_count": 16,
   "id": "66149f0d",
   "metadata": {
    "execution": {
     "iopub.execute_input": "2024-11-22T16:09:42.484922Z",
     "iopub.status.busy": "2024-11-22T16:09:42.484661Z",
     "iopub.status.idle": "2024-11-22T16:09:42.488518Z",
     "shell.execute_reply": "2024-11-22T16:09:42.487715Z"
    },
    "papermill": {
     "duration": 0.012204,
     "end_time": "2024-11-22T16:09:42.489998",
     "exception": false,
     "start_time": "2024-11-22T16:09:42.477794",
     "status": "completed"
    },
    "tags": []
   },
   "outputs": [],
   "source": [
    "if want_a_response:\n",
    "    for idx_response, response in enumerate(responses):\n",
    "        print(f\"Token count for response {idx_response}: {response[2].total_token_count}\")"
   ]
  },
  {
   "cell_type": "code",
   "execution_count": null,
   "id": "3763dcb1",
   "metadata": {
    "papermill": {
     "duration": 0.006045,
     "end_time": "2024-11-22T16:09:42.502128",
     "exception": false,
     "start_time": "2024-11-22T16:09:42.496083",
     "status": "completed"
    },
    "tags": []
   },
   "outputs": [],
   "source": []
  },
  {
   "cell_type": "code",
   "execution_count": null,
   "id": "b0abcc7f",
   "metadata": {
    "papermill": {
     "duration": 0.005916,
     "end_time": "2024-11-22T16:09:42.514193",
     "exception": false,
     "start_time": "2024-11-22T16:09:42.508277",
     "status": "completed"
    },
    "tags": []
   },
   "outputs": [],
   "source": []
  },
  {
   "cell_type": "code",
   "execution_count": null,
   "id": "bb18d832",
   "metadata": {
    "papermill": {
     "duration": 0.005967,
     "end_time": "2024-11-22T16:09:42.526249",
     "exception": false,
     "start_time": "2024-11-22T16:09:42.520282",
     "status": "completed"
    },
    "tags": []
   },
   "outputs": [],
   "source": []
  },
  {
   "cell_type": "code",
   "execution_count": null,
   "id": "0a77c948",
   "metadata": {
    "papermill": {
     "duration": 0.005937,
     "end_time": "2024-11-22T16:09:42.538360",
     "exception": false,
     "start_time": "2024-11-22T16:09:42.532423",
     "status": "completed"
    },
    "tags": []
   },
   "outputs": [],
   "source": []
  },
  {
   "cell_type": "code",
   "execution_count": null,
   "id": "79912c46",
   "metadata": {
    "papermill": {
     "duration": 0.005884,
     "end_time": "2024-11-22T16:09:42.550462",
     "exception": false,
     "start_time": "2024-11-22T16:09:42.544578",
     "status": "completed"
    },
    "tags": []
   },
   "outputs": [],
   "source": []
  },
  {
   "cell_type": "code",
   "execution_count": null,
   "id": "d1915958",
   "metadata": {
    "papermill": {
     "duration": 0.006077,
     "end_time": "2024-11-22T16:09:42.562820",
     "exception": false,
     "start_time": "2024-11-22T16:09:42.556743",
     "status": "completed"
    },
    "tags": []
   },
   "outputs": [],
   "source": []
  },
  {
   "cell_type": "code",
   "execution_count": null,
   "id": "dcc8f0d2",
   "metadata": {
    "papermill": {
     "duration": 0.00608,
     "end_time": "2024-11-22T16:09:42.575415",
     "exception": false,
     "start_time": "2024-11-22T16:09:42.569335",
     "status": "completed"
    },
    "tags": []
   },
   "outputs": [],
   "source": []
  },
  {
   "cell_type": "code",
   "execution_count": null,
   "id": "3b9b3ee0",
   "metadata": {
    "papermill": {
     "duration": 0.006297,
     "end_time": "2024-11-22T16:09:42.587934",
     "exception": false,
     "start_time": "2024-11-22T16:09:42.581637",
     "status": "completed"
    },
    "tags": []
   },
   "outputs": [],
   "source": []
  },
  {
   "cell_type": "code",
   "execution_count": null,
   "id": "bce10d94",
   "metadata": {
    "papermill": {
     "duration": 0.005929,
     "end_time": "2024-11-22T16:09:42.600072",
     "exception": false,
     "start_time": "2024-11-22T16:09:42.594143",
     "status": "completed"
    },
    "tags": []
   },
   "outputs": [],
   "source": []
  },
  {
   "cell_type": "code",
   "execution_count": null,
   "id": "8ef0013f",
   "metadata": {
    "papermill": {
     "duration": 0.005881,
     "end_time": "2024-11-22T16:09:42.612147",
     "exception": false,
     "start_time": "2024-11-22T16:09:42.606266",
     "status": "completed"
    },
    "tags": []
   },
   "outputs": [],
   "source": []
  },
  {
   "cell_type": "code",
   "execution_count": null,
   "id": "dd74bf89",
   "metadata": {
    "papermill": {
     "duration": 0.005933,
     "end_time": "2024-11-22T16:09:42.624325",
     "exception": false,
     "start_time": "2024-11-22T16:09:42.618392",
     "status": "completed"
    },
    "tags": []
   },
   "outputs": [],
   "source": []
  },
  {
   "cell_type": "code",
   "execution_count": null,
   "id": "e119ce03",
   "metadata": {
    "papermill": {
     "duration": 0.005938,
     "end_time": "2024-11-22T16:09:42.636389",
     "exception": false,
     "start_time": "2024-11-22T16:09:42.630451",
     "status": "completed"
    },
    "tags": []
   },
   "outputs": [],
   "source": []
  },
  {
   "cell_type": "code",
   "execution_count": null,
   "id": "f789ae86",
   "metadata": {
    "papermill": {
     "duration": 0.00591,
     "end_time": "2024-11-22T16:09:42.648420",
     "exception": false,
     "start_time": "2024-11-22T16:09:42.642510",
     "status": "completed"
    },
    "tags": []
   },
   "outputs": [],
   "source": []
  }
 ],
 "metadata": {
  "kaggle": {
   "accelerator": "gpu",
   "dataSources": [],
   "dockerImageVersionId": 30786,
   "isGpuEnabled": true,
   "isInternetEnabled": true,
   "language": "python",
   "sourceType": "notebook"
  },
  "kernelspec": {
   "display_name": "Python 3",
   "language": "python",
   "name": "python3"
  },
  "language_info": {
   "codemirror_mode": {
    "name": "ipython",
    "version": 3
   },
   "file_extension": ".py",
   "mimetype": "text/x-python",
   "name": "python",
   "nbconvert_exporter": "python",
   "pygments_lexer": "ipython3",
   "version": "3.10.14"
  },
  "papermill": {
   "default_parameters": {},
   "duration": 19.138691,
   "end_time": "2024-11-22T16:09:43.073296",
   "environment_variables": {},
   "exception": null,
   "input_path": "__notebook__.ipynb",
   "output_path": "__notebook__.ipynb",
   "parameters": {},
   "start_time": "2024-11-22T16:09:23.934605",
   "version": "2.6.0"
  }
 },
 "nbformat": 4,
 "nbformat_minor": 5
}
