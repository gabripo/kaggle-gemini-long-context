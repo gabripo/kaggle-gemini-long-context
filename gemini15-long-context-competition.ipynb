{
 "cells": [
  {
   "cell_type": "markdown",
   "id": "bda52fb7",
   "metadata": {
    "papermill": {
     "duration": 0.006302,
     "end_time": "2024-11-22T20:36:55.237102",
     "exception": false,
     "start_time": "2024-11-22T20:36:55.230800",
     "status": "completed"
    },
    "tags": []
   },
   "source": [
    "# Tender2Project\n",
    "The following Kaggle notebook exploits the long context window of Gemini, in order to fulfill the following targets:\n",
    "- Analyze the tender for a project.\n",
    "- Analyze the information about possible products, provided from different companies.\n",
    "- Find the best combination of products to build the project in the tender, identifying the most compliant company as well.\n",
    "\n",
    "## Notebook structure\n",
    "The notebook is composed by different parts, each one with a specific target:\n",
    "- A tender for a project is parsed, such that its information is converted to text.\n",
    "- Information scraped from the websites of different companies is loaded as text.\n",
    "- All the text is forwarded to Gemini, whereas a system prompt and a user prompt are written to explain the purposed o Gemini.\n",
    "\n",
    "## Theoretical aspects\n",
    "The current way to use Gemini makes use of the following properties of a LLM (Large Language Model) like Gemini:\n",
    "|  **LLM property** | **Where it is used** | **How it is used** |\n",
    "|:-----------------:|:--------------------:|:------------------:|\n",
    "|     Reasoning     |          TBD         |         TBD        |\n",
    "|       Memory      |          TBD         |         TBD        |\n",
    "| Chain of Thoughts |          TBD         |         TBD        |\n",
    "|                   |                      |                    |"
   ]
  },
  {
   "cell_type": "markdown",
   "id": "5311a99d",
   "metadata": {
    "papermill": {
     "duration": 0.005356,
     "end_time": "2024-11-22T20:36:55.249248",
     "exception": false,
     "start_time": "2024-11-22T20:36:55.243892",
     "status": "completed"
    },
    "tags": []
   },
   "source": [
    "Clean the working directory"
   ]
  },
  {
   "cell_type": "code",
   "execution_count": 1,
   "id": "a878dba4",
   "metadata": {
    "execution": {
     "iopub.execute_input": "2024-11-22T20:36:55.261869Z",
     "iopub.status.busy": "2024-11-22T20:36:55.261320Z",
     "iopub.status.idle": "2024-11-22T20:36:56.264886Z",
     "shell.execute_reply": "2024-11-22T20:36:56.263675Z"
    },
    "papermill": {
     "duration": 1.012348,
     "end_time": "2024-11-22T20:36:56.267065",
     "exception": false,
     "start_time": "2024-11-22T20:36:55.254717",
     "status": "completed"
    },
    "tags": []
   },
   "outputs": [],
   "source": [
    "! rm -r /kaggle/working/*"
   ]
  },
  {
   "cell_type": "markdown",
   "id": "a43fbd3a",
   "metadata": {
    "papermill": {
     "duration": 0.005433,
     "end_time": "2024-11-22T20:36:56.278294",
     "exception": false,
     "start_time": "2024-11-22T20:36:56.272861",
     "status": "completed"
    },
    "tags": []
   },
   "source": [
    "# Analyze the tenders"
   ]
  },
  {
   "cell_type": "markdown",
   "id": "81d2f6b0",
   "metadata": {
    "papermill": {
     "duration": 0.005297,
     "end_time": "2024-11-22T20:36:56.289052",
     "exception": false,
     "start_time": "2024-11-22T20:36:56.283755",
     "status": "completed"
    },
    "tags": []
   },
   "source": [
    "Locate the tenders - in PDF format."
   ]
  },
  {
   "cell_type": "code",
   "execution_count": 2,
   "id": "2703e390",
   "metadata": {
    "execution": {
     "iopub.execute_input": "2024-11-22T20:36:56.301849Z",
     "iopub.status.busy": "2024-11-22T20:36:56.301142Z",
     "iopub.status.idle": "2024-11-22T20:36:57.507195Z",
     "shell.execute_reply": "2024-11-22T20:36:57.506352Z"
    },
    "papermill": {
     "duration": 1.21469,
     "end_time": "2024-11-22T20:36:57.509200",
     "exception": false,
     "start_time": "2024-11-22T20:36:56.294510",
     "status": "completed"
    },
    "tags": []
   },
   "outputs": [
    {
     "name": "stdout",
     "output_type": "stream",
     "text": [
      "--2024-11-22 20:36:57--  https://raw.githubusercontent.com/gabripo/kaggle-gemini-long-context/refs/heads/main/github_downloader.py\r\n",
      "Resolving raw.githubusercontent.com (raw.githubusercontent.com)... 185.199.110.133, 185.199.108.133, 185.199.111.133, ...\r\n",
      "Connecting to raw.githubusercontent.com (raw.githubusercontent.com)|185.199.110.133|:443... connected.\r\n",
      "HTTP request sent, awaiting response... 200 OK\r\n",
      "Length: 1722 (1.7K) [text/plain]\r\n",
      "Saving to: '/kaggle/working/scripts/github_downloader.py'\r\n",
      "\r\n",
      "github_downloader.p 100%[===================>]   1.68K  --.-KB/s    in 0s      \r\n",
      "\r\n",
      "2024-11-22 20:36:57 (30.3 MB/s) - '/kaggle/working/scripts/github_downloader.py' saved [1722/1722]\r\n",
      "\r\n"
     ]
    }
   ],
   "source": [
    "# fetch the script to download content from GitHub\n",
    "!wget https://raw.githubusercontent.com/gabripo/kaggle-gemini-long-context/refs/heads/main/github_downloader.py -P /kaggle/working/scripts\n",
    "\n",
    "# add downloaded script to the Python path\n",
    "import sys\n",
    "sys.path.append('/kaggle/working/scripts')"
   ]
  },
  {
   "cell_type": "code",
   "execution_count": 3,
   "id": "2745e005",
   "metadata": {
    "execution": {
     "iopub.execute_input": "2024-11-22T20:36:57.523064Z",
     "iopub.status.busy": "2024-11-22T20:36:57.522137Z",
     "iopub.status.idle": "2024-11-22T20:36:58.204610Z",
     "shell.execute_reply": "2024-11-22T20:36:58.203629Z"
    },
    "papermill": {
     "duration": 0.69108,
     "end_time": "2024-11-22T20:36:58.206435",
     "exception": false,
     "start_time": "2024-11-22T20:36:57.515355",
     "status": "completed"
    },
    "tags": []
   },
   "outputs": [
    {
     "name": "stdout",
     "output_type": "stream",
     "text": [
      "Downloading tender_solar.pdf...\n",
      "/kaggle/working/tenders/tender_solar.pdf downloaded successfully.\n",
      "Downloading tender_wind.pdf...\n",
      "/kaggle/working/tenders/tender_wind.pdf downloaded successfully.\n",
      "All files downloaded.\n"
     ]
    }
   ],
   "source": [
    "import github_downloader\n",
    "\n",
    "github_downloader.download_files_from_github_repo(folderName=\"tenders\", saveFolder=\"/kaggle/working/tenders\", extension=\"pdf\")"
   ]
  },
  {
   "cell_type": "code",
   "execution_count": 4,
   "id": "7b7c50b1",
   "metadata": {
    "execution": {
     "iopub.execute_input": "2024-11-22T20:36:58.219541Z",
     "iopub.status.busy": "2024-11-22T20:36:58.219259Z",
     "iopub.status.idle": "2024-11-22T20:36:58.223920Z",
     "shell.execute_reply": "2024-11-22T20:36:58.223109Z"
    },
    "papermill": {
     "duration": 0.013072,
     "end_time": "2024-11-22T20:36:58.225746",
     "exception": false,
     "start_time": "2024-11-22T20:36:58.212674",
     "status": "completed"
    },
    "tags": []
   },
   "outputs": [
    {
     "name": "stdout",
     "output_type": "stream",
     "text": [
      "The folder /kaggle/working/tenders will be considered as containing the tenders\n"
     ]
    }
   ],
   "source": [
    "import os\n",
    "\n",
    "# if the PDF file is given as Kaggle Input (for example, manually uploaded), change the use_kaggle_input to True\n",
    "use_kaggle_input_tender = False if os.path.exists('/kaggle/working/tenders') else True\n",
    "if use_kaggle_input_tender:\n",
    "    tenders_file_path = '/kaggle/input/tenders'\n",
    "else:\n",
    "    tenders_file_path = '/kaggle/working/tenders'\n",
    "\n",
    "print(f\"The folder {tenders_file_path} will be considered as containing the tenders\")"
   ]
  },
  {
   "cell_type": "markdown",
   "id": "1bfe65fc",
   "metadata": {
    "papermill": {
     "duration": 0.005881,
     "end_time": "2024-11-22T20:36:58.237794",
     "exception": false,
     "start_time": "2024-11-22T20:36:58.231913",
     "status": "completed"
    },
    "tags": []
   },
   "source": [
    "Installing required Python packages to analyze the tender - in PDF format."
   ]
  },
  {
   "cell_type": "code",
   "execution_count": 5,
   "id": "ec8fd49c",
   "metadata": {
    "execution": {
     "iopub.execute_input": "2024-11-22T20:36:58.250673Z",
     "iopub.status.busy": "2024-11-22T20:36:58.250379Z",
     "iopub.status.idle": "2024-11-22T20:37:07.629287Z",
     "shell.execute_reply": "2024-11-22T20:37:07.628411Z"
    },
    "papermill": {
     "duration": 9.387816,
     "end_time": "2024-11-22T20:37:07.631484",
     "exception": false,
     "start_time": "2024-11-22T20:36:58.243668",
     "status": "completed"
    },
    "tags": []
   },
   "outputs": [
    {
     "name": "stdout",
     "output_type": "stream",
     "text": [
      "Collecting PyPDF2\r\n",
      "  Downloading pypdf2-3.0.1-py3-none-any.whl.metadata (6.8 kB)\r\n",
      "Downloading pypdf2-3.0.1-py3-none-any.whl (232 kB)\r\n",
      "\u001b[2K   \u001b[90m━━━━━━━━━━━━━━━━━━━━━━━━━━━━━━━━━━━━━━━━\u001b[0m \u001b[32m232.6/232.6 kB\u001b[0m \u001b[31m9.6 MB/s\u001b[0m eta \u001b[36m0:00:00\u001b[0m\r\n",
      "\u001b[?25hInstalling collected packages: PyPDF2\r\n",
      "Successfully installed PyPDF2-3.0.1\r\n"
     ]
    }
   ],
   "source": [
    "!pip install PyPDF2"
   ]
  },
  {
   "cell_type": "markdown",
   "id": "ca5dfaa7",
   "metadata": {
    "papermill": {
     "duration": 0.006036,
     "end_time": "2024-11-22T20:37:07.644503",
     "exception": false,
     "start_time": "2024-11-22T20:37:07.638467",
     "status": "completed"
    },
    "tags": []
   },
   "source": [
    "Extract information from the tenders.\n",
    "The output will be a text."
   ]
  },
  {
   "cell_type": "code",
   "execution_count": 6,
   "id": "fc7ab822",
   "metadata": {
    "execution": {
     "iopub.execute_input": "2024-11-22T20:37:07.658611Z",
     "iopub.status.busy": "2024-11-22T20:37:07.657981Z",
     "iopub.status.idle": "2024-11-22T20:37:09.103361Z",
     "shell.execute_reply": "2024-11-22T20:37:09.102716Z"
    },
    "papermill": {
     "duration": 1.454575,
     "end_time": "2024-11-22T20:37:09.105390",
     "exception": false,
     "start_time": "2024-11-22T20:37:07.650815",
     "status": "completed"
    },
    "tags": []
   },
   "outputs": [
    {
     "name": "stdout",
     "output_type": "stream",
     "text": [
      "Reading the tender tender_solar.pdf ...\n",
      "Reading the tender tender_wind.pdf ...\n"
     ]
    }
   ],
   "source": [
    "import os\n",
    "from PyPDF2 import PdfReader\n",
    "\n",
    "tenders = [t for t in os.listdir(tenders_file_path) if t.endswith(\".pdf\")]\n",
    "tenders_info = {}\n",
    "for tender in tenders:\n",
    "    print(f\"Reading the tender {tender} ...\")\n",
    "    reader = PdfReader(os.path.join(tenders_file_path, tender))\n",
    "\n",
    "    tenders_info[tender] = {}\n",
    "    tenders_info[tender][\"name\"] = tender\n",
    "    tenders_info[tender][\"content\"] = \"\\n\".join([page.extract_text() for page in reader.pages])\n",
    "\n",
    "# information for each tender can be accessed by:\n",
    "# tenders_info[tenders[0]]"
   ]
  },
  {
   "cell_type": "markdown",
   "id": "68cefb9f",
   "metadata": {
    "papermill": {
     "duration": 0.006005,
     "end_time": "2024-11-22T20:37:09.117974",
     "exception": false,
     "start_time": "2024-11-22T20:37:09.111969",
     "status": "completed"
    },
    "tags": []
   },
   "source": [
    "# Fetch information about companies"
   ]
  },
  {
   "cell_type": "markdown",
   "id": "065154e9",
   "metadata": {
    "papermill": {
     "duration": 0.00596,
     "end_time": "2024-11-22T20:37:09.130172",
     "exception": false,
     "start_time": "2024-11-22T20:37:09.124212",
     "status": "completed"
    },
    "tags": []
   },
   "source": [
    "## Overview\n",
    "Information about interesting companies is obtained from their websites.\n",
    "\n",
    "To generate data out of the companies' websites, we implemented a crawler.\n",
    "The final output of the crawler is a JSON file, in which each field refers to a company: for each company, all the information of the websites is merged.\n",
    "\n",
    "> To make things easier, the mentioned JSON file will be fetched from a Git repository where the crawling function has already been executed.\n",
    "\n",
    "## Details about the crawling process:\n",
    "- **Recursive scan**: after a webpage is scanned and its content is stored, eventual found sublinks are scanned, as well. A limit of the wepages to download is given as input.\n",
    "- **Redundant information is deleted**: if some website content can be found multiple times in all the webpages of one company, then it is skipped. *Example*: undesired and redundant lines like \"Contact Us\" are removed, ensuring that the final content does not include unnecessary sentences.\n",
    "- **Caching of already downloaded pages**: for each webpage, the content is stored in a JSON file, as well as the found sublinks. *Example*: after a run with a limit of N pages, other runs with less than N pages will use the stored files instead downloading data from internet; at the contrary, if the limit is increased to M > N pages, only M - N additional pages will be downloaded while the first N pages will be taken from the stored file."
   ]
  },
  {
   "cell_type": "markdown",
   "id": "6c830bc2",
   "metadata": {
    "papermill": {
     "duration": 0.005874,
     "end_time": "2024-11-22T20:37:09.142130",
     "exception": false,
     "start_time": "2024-11-22T20:37:09.136256",
     "status": "completed"
    },
    "tags": []
   },
   "source": [
    "## Load the results from the crawler's repo"
   ]
  },
  {
   "cell_type": "code",
   "execution_count": 7,
   "id": "f9aa07b5",
   "metadata": {
    "execution": {
     "iopub.execute_input": "2024-11-22T20:37:09.155719Z",
     "iopub.status.busy": "2024-11-22T20:37:09.155150Z",
     "iopub.status.idle": "2024-11-22T20:37:10.053404Z",
     "shell.execute_reply": "2024-11-22T20:37:10.052461Z"
    },
    "papermill": {
     "duration": 0.906837,
     "end_time": "2024-11-22T20:37:10.055142",
     "exception": false,
     "start_time": "2024-11-22T20:37:09.148305",
     "status": "completed"
    },
    "tags": []
   },
   "outputs": [
    {
     "name": "stdout",
     "output_type": "stream",
     "text": [
      "Downloading companies_info.json...\n",
      "/kaggle/working/companies_info/companies_info.json downloaded successfully.\n",
      "All files downloaded.\n"
     ]
    }
   ],
   "source": [
    "github_downloader.download_files_from_github_repo(folderName=\"\", saveFolder=\"/kaggle/working/companies_info\", extension=\"json\")"
   ]
  },
  {
   "cell_type": "markdown",
   "id": "5dda22a0",
   "metadata": {
    "papermill": {
     "duration": 0.007008,
     "end_time": "2024-11-22T20:37:10.068778",
     "exception": false,
     "start_time": "2024-11-22T20:37:10.061770",
     "status": "completed"
    },
    "tags": []
   },
   "source": [
    "Locate the JSON file containing the companies' information."
   ]
  },
  {
   "cell_type": "code",
   "execution_count": 8,
   "id": "d31dc8aa",
   "metadata": {
    "execution": {
     "iopub.execute_input": "2024-11-22T20:37:10.083850Z",
     "iopub.status.busy": "2024-11-22T20:37:10.083081Z",
     "iopub.status.idle": "2024-11-22T20:37:10.088689Z",
     "shell.execute_reply": "2024-11-22T20:37:10.087614Z"
    },
    "papermill": {
     "duration": 0.014339,
     "end_time": "2024-11-22T20:37:10.090285",
     "exception": false,
     "start_time": "2024-11-22T20:37:10.075946",
     "status": "completed"
    },
    "tags": []
   },
   "outputs": [
    {
     "name": "stdout",
     "output_type": "stream",
     "text": [
      "The file /kaggle/working/companies_info/companies_info.json will be used for the information regarding the companies\n"
     ]
    }
   ],
   "source": [
    "import os\n",
    "\n",
    "# if the JSON file is given as Kaggle Input (for example, manually uploaded), change the use_kaggle_input to True\n",
    "use_kaggle_input_companies = False if os.path.exists('/kaggle/working/companies_info') else True\n",
    "companies_json_name = 'companies_info.json'\n",
    "if use_kaggle_input_companies:\n",
    "    companies_info_file_path = os.path.join('/kaggle/input/companies-info', companies_json_name)\n",
    "else:\n",
    "    companies_info_file_path = os.path.join('/kaggle/working/companies_info', companies_json_name)\n",
    "\n",
    "print(f\"The file {companies_info_file_path} will be used for the information regarding the companies\")"
   ]
  },
  {
   "cell_type": "markdown",
   "id": "93aeb5e5",
   "metadata": {
    "papermill": {
     "duration": 0.00606,
     "end_time": "2024-11-22T20:37:10.102689",
     "exception": false,
     "start_time": "2024-11-22T20:37:10.096629",
     "status": "completed"
    },
    "tags": []
   },
   "source": [
    "Define a small function to read the information about the companies - in JSON format."
   ]
  },
  {
   "cell_type": "code",
   "execution_count": 9,
   "id": "ed0d5ffe",
   "metadata": {
    "execution": {
     "iopub.execute_input": "2024-11-22T20:37:10.116435Z",
     "iopub.status.busy": "2024-11-22T20:37:10.115923Z",
     "iopub.status.idle": "2024-11-22T20:37:10.120156Z",
     "shell.execute_reply": "2024-11-22T20:37:10.119335Z"
    },
    "papermill": {
     "duration": 0.01286,
     "end_time": "2024-11-22T20:37:10.121782",
     "exception": false,
     "start_time": "2024-11-22T20:37:10.108922",
     "status": "completed"
    },
    "tags": []
   },
   "outputs": [],
   "source": [
    "import json\n",
    "\n",
    "def read_companies_info(jsonFilePath: str) -> dict:\n",
    "    if os.path.exists(jsonFilePath):\n",
    "        with open(jsonFilePath, \"r\") as f:\n",
    "            data = json.load(f)\n",
    "        return data\n",
    "    else:\n",
    "        return {}"
   ]
  },
  {
   "cell_type": "markdown",
   "id": "9c26cce9",
   "metadata": {
    "papermill": {
     "duration": 0.006321,
     "end_time": "2024-11-22T20:37:10.134475",
     "exception": false,
     "start_time": "2024-11-22T20:37:10.128154",
     "status": "completed"
    },
    "tags": []
   },
   "source": [
    "Load the companies' information by using the defined function."
   ]
  },
  {
   "cell_type": "code",
   "execution_count": 10,
   "id": "ebcd16a4",
   "metadata": {
    "execution": {
     "iopub.execute_input": "2024-11-22T20:37:10.148184Z",
     "iopub.status.busy": "2024-11-22T20:37:10.147942Z",
     "iopub.status.idle": "2024-11-22T20:37:10.206937Z",
     "shell.execute_reply": "2024-11-22T20:37:10.206235Z"
    },
    "papermill": {
     "duration": 0.067814,
     "end_time": "2024-11-22T20:37:10.208618",
     "exception": false,
     "start_time": "2024-11-22T20:37:10.140804",
     "status": "completed"
    },
    "tags": []
   },
   "outputs": [],
   "source": [
    "companies_info = read_companies_info(companies_info_file_path)\n",
    "\n",
    "# companies_info is a dictionary, where the key is the name of the company and the related value its information\n",
    "# print(companies_info[\"SIEMENS\"]) "
   ]
  },
  {
   "cell_type": "markdown",
   "id": "325968f9",
   "metadata": {
    "papermill": {
     "duration": 0.006141,
     "end_time": "2024-11-22T20:37:10.221316",
     "exception": false,
     "start_time": "2024-11-22T20:37:10.215175",
     "status": "completed"
    },
    "tags": []
   },
   "source": [
    "# Chat with Gemini"
   ]
  },
  {
   "cell_type": "code",
   "execution_count": 11,
   "id": "f565992c",
   "metadata": {
    "execution": {
     "iopub.execute_input": "2024-11-22T20:37:10.235132Z",
     "iopub.status.busy": "2024-11-22T20:37:10.234874Z",
     "iopub.status.idle": "2024-11-22T20:37:11.204856Z",
     "shell.execute_reply": "2024-11-22T20:37:11.204177Z"
    },
    "papermill": {
     "duration": 0.979045,
     "end_time": "2024-11-22T20:37:11.206874",
     "exception": false,
     "start_time": "2024-11-22T20:37:10.227829",
     "status": "completed"
    },
    "tags": []
   },
   "outputs": [],
   "source": [
    "# API key got here: https://ai.google.dev/tutorials/setup\n",
    "\n",
    "import google.generativeai as genai\n",
    "from kaggle_secrets import UserSecretsClient\n",
    "\n",
    "\n",
    "user_secrets = UserSecretsClient()\n",
    "secret_key = user_secrets.get_secret(\"GEMINI_API_KEY\")\n",
    "\n",
    "genai.configure(api_key = secret_key)\n",
    "\n",
    "model = genai.GenerativeModel(model_name='gemini-1.5-flash-latest')\n",
    "\n",
    "chat = model.start_chat()\n",
    "\n",
    "# example how to send prompts\n",
    "# response = chat.send_message('Hi! What about competing on Kaggle?')\n",
    "# print(response.text)"
   ]
  },
  {
   "cell_type": "markdown",
   "id": "9e9371d1",
   "metadata": {
    "papermill": {
     "duration": 0.006245,
     "end_time": "2024-11-22T20:37:11.219849",
     "exception": false,
     "start_time": "2024-11-22T20:37:11.213604",
     "status": "completed"
    },
    "tags": []
   },
   "source": [
    "## Define the system and user prompts"
   ]
  },
  {
   "cell_type": "code",
   "execution_count": 12,
   "id": "17b50fae",
   "metadata": {
    "execution": {
     "iopub.execute_input": "2024-11-22T20:37:11.234182Z",
     "iopub.status.busy": "2024-11-22T20:37:11.233794Z",
     "iopub.status.idle": "2024-11-22T20:37:11.237572Z",
     "shell.execute_reply": "2024-11-22T20:37:11.236914Z"
    },
    "papermill": {
     "duration": 0.01297,
     "end_time": "2024-11-22T20:37:11.239190",
     "exception": false,
     "start_time": "2024-11-22T20:37:11.226220",
     "status": "completed"
    },
    "tags": []
   },
   "outputs": [],
   "source": [
    "system_prompt = \"You are an experienced technical sales manager. You are given the content of websites of companies with their portfolio for products and solutions. Use the content of the websites to provide detailed technical answers based on tender requirements and user prompt.\"\n",
    "# print(f\"The system prompt is:\\n{system_prompt}\")"
   ]
  },
  {
   "cell_type": "code",
   "execution_count": 13,
   "id": "f734277d",
   "metadata": {
    "execution": {
     "iopub.execute_input": "2024-11-22T20:37:11.253218Z",
     "iopub.status.busy": "2024-11-22T20:37:11.252982Z",
     "iopub.status.idle": "2024-11-22T20:37:11.256863Z",
     "shell.execute_reply": "2024-11-22T20:37:11.256167Z"
    },
    "papermill": {
     "duration": 0.012688,
     "end_time": "2024-11-22T20:37:11.258304",
     "exception": false,
     "start_time": "2024-11-22T20:37:11.245616",
     "status": "completed"
    },
    "tags": []
   },
   "outputs": [],
   "source": [
    "tender_prompt_template = \"The document you have is a tender, that contains technical requirements for a project. Summarize the technical requirements out of the following content of the document:\\n\"\n",
    "tender_prompts = []\n",
    "for info in tenders_info.values():\n",
    "    tender_prompts.append(f\"You have a document called {info['name']}. \" + tender_prompt_template + f\"{info['content']}\")"
   ]
  },
  {
   "cell_type": "code",
   "execution_count": 14,
   "id": "49b19d5e",
   "metadata": {
    "execution": {
     "iopub.execute_input": "2024-11-22T20:37:11.271829Z",
     "iopub.status.busy": "2024-11-22T20:37:11.271590Z",
     "iopub.status.idle": "2024-11-22T20:37:11.285611Z",
     "shell.execute_reply": "2024-11-22T20:37:11.284963Z"
    },
    "papermill": {
     "duration": 0.022415,
     "end_time": "2024-11-22T20:37:11.287070",
     "exception": false,
     "start_time": "2024-11-22T20:37:11.264655",
     "status": "completed"
    },
    "tags": []
   },
   "outputs": [],
   "source": [
    "user_prompt = f\"\"\"\n",
    "\n",
    "1. Identify all the technical requirements in the tenders' information you have. Previously, you were given information about different documents, each one representing a tender.\n",
    "\n",
    "2. For company [SIEMENS] and [HITACHI], find the respective relevant products and solutions with respect to point 1. Do this one company at a time and store the results.\n",
    "\n",
    "3. Calculate an affinity score in percentage of company [SIEMENS] and [HITACHI] based on the match of results in point 2. Explain the way how you computed this percentage.\n",
    "\n",
    "SIEMENS: {companies_info[\"SIEMENS\"]}\n",
    "HITACHI: {companies_info[\"HITACHI\"]}\n",
    "\n",
    "4. Return a quick technical summary of the tender.\n",
    "\n",
    "5. Return the technical details of the company with the highest affinity score and its score. Focus on the technical specifications mentioning the compliances with the tender. Report also the URL of the source where you found the informations and mention if there is some non compliant requirements from tender.\n",
    "\n",
    "6. Return also the other affinity scores alone of the other companies. \n",
    "\n",
    "\"\"\"\n",
    "\n",
    "# print(f\"The user prompt is:\\n{user_prompt}\")"
   ]
  },
  {
   "cell_type": "markdown",
   "id": "f29a3122",
   "metadata": {
    "papermill": {
     "duration": 0.006061,
     "end_time": "2024-11-22T20:37:11.299477",
     "exception": false,
     "start_time": "2024-11-22T20:37:11.293416",
     "status": "completed"
    },
    "tags": []
   },
   "source": [
    "## Generate a response"
   ]
  },
  {
   "cell_type": "code",
   "execution_count": 15,
   "id": "d7a9c35e",
   "metadata": {
    "execution": {
     "iopub.execute_input": "2024-11-22T20:37:11.313137Z",
     "iopub.status.busy": "2024-11-22T20:37:11.312902Z",
     "iopub.status.idle": "2024-11-22T20:38:33.139296Z",
     "shell.execute_reply": "2024-11-22T20:38:33.138410Z"
    },
    "papermill": {
     "duration": 81.841872,
     "end_time": "2024-11-22T20:38:33.147825",
     "exception": false,
     "start_time": "2024-11-22T20:37:11.305953",
     "status": "completed"
    },
    "tags": []
   },
   "outputs": [
    {
     "name": "stdout",
     "output_type": "stream",
     "text": [
      "Generating response for tender tender_solar.pdf ...\n",
      "Generating response for tender tender_wind.pdf ...\n",
      "Analysis of the tenders concluded!\n"
     ]
    }
   ],
   "source": [
    "from time import sleep\n",
    "\n",
    "want_a_response = True # disable if willing to save a notebook but the Gemini quota has been exhausted\n",
    "\n",
    "responses = []\n",
    "if want_a_response:\n",
    "    num_queries = 0\n",
    "    for tender_prompt, tender_name in zip(tender_prompts, tenders):\n",
    "        print(f\"Generating response for tender {tender_name} ...\")\n",
    "        response = chat.send_message(tender_prompt)\n",
    "        # print(response.text)\n",
    "        responses.append((tender_prompt, response.text, response.usage_metadata))\n",
    "\n",
    "        num_queries += 1\n",
    "        if num_queries % 2 == 0:\n",
    "            sleep(60) # [s] , waiting to not exceed the Gemini's quota\n",
    "\n",
    "    print(\"Analysis of the tenders concluded!\")"
   ]
  },
  {
   "cell_type": "code",
   "execution_count": 16,
   "id": "d35292ee",
   "metadata": {
    "execution": {
     "iopub.execute_input": "2024-11-22T20:38:33.161951Z",
     "iopub.status.busy": "2024-11-22T20:38:33.161695Z",
     "iopub.status.idle": "2024-11-22T20:39:48.147765Z",
     "shell.execute_reply": "2024-11-22T20:39:48.146843Z"
    },
    "papermill": {
     "duration": 75.001314,
     "end_time": "2024-11-22T20:39:48.155687",
     "exception": false,
     "start_time": "2024-11-22T20:38:33.154373",
     "status": "completed"
    },
    "tags": []
   },
   "outputs": [
    {
     "name": "stdout",
     "output_type": "stream",
     "text": [
      "Providing prompts based on the previous analysis of the tenders ...\n",
      "Response to the prompts is ready!\n"
     ]
    }
   ],
   "source": [
    "if want_a_response:\n",
    "    # the Memory in Gemini will consider the previously generated summaries from the tenders\n",
    "    print(\"Providing prompts based on the previous analysis of the tenders ...\")\n",
    "    response = chat.send_message(system_prompt + user_prompt)\n",
    "    # print(response.text)\n",
    "    responses.append((system_prompt + user_prompt, response.text, response.usage_metadata))\n",
    "\n",
    "    print(\"Response to the prompts is ready!\")"
   ]
  },
  {
   "cell_type": "markdown",
   "id": "ea1a2094",
   "metadata": {
    "papermill": {
     "duration": 0.006536,
     "end_time": "2024-11-22T20:39:48.168844",
     "exception": false,
     "start_time": "2024-11-22T20:39:48.162308",
     "status": "completed"
    },
    "tags": []
   },
   "source": [
    "## Check how many tokens have been used so far"
   ]
  },
  {
   "cell_type": "code",
   "execution_count": 17,
   "id": "16ce0705",
   "metadata": {
    "execution": {
     "iopub.execute_input": "2024-11-22T20:39:48.183196Z",
     "iopub.status.busy": "2024-11-22T20:39:48.182914Z",
     "iopub.status.idle": "2024-11-22T20:39:48.187850Z",
     "shell.execute_reply": "2024-11-22T20:39:48.187020Z"
    },
    "papermill": {
     "duration": 0.014142,
     "end_time": "2024-11-22T20:39:48.189493",
     "exception": false,
     "start_time": "2024-11-22T20:39:48.175351",
     "status": "completed"
    },
    "tags": []
   },
   "outputs": [
    {
     "name": "stdout",
     "output_type": "stream",
     "text": [
      "Token count for response 0: 8060\n",
      "Token count for response 1: 21157\n",
      "Token count for response 2: 666917\n",
      "Total number of tokens: 696134\n"
     ]
    }
   ],
   "source": [
    "if want_a_response:\n",
    "    tot_tokens = 0\n",
    "    for idx_response, response in enumerate(responses):\n",
    "        response_token = response[2].total_token_count\n",
    "        print(f\"Token count for response {idx_response}: {response_token}\")\n",
    "        tot_tokens += response_token\n",
    "\n",
    "    print(f\"Total number of tokens: {tot_tokens}\")"
   ]
  },
  {
   "cell_type": "code",
   "execution_count": 18,
   "id": "019e5309",
   "metadata": {
    "execution": {
     "iopub.execute_input": "2024-11-22T20:39:48.204045Z",
     "iopub.status.busy": "2024-11-22T20:39:48.203415Z",
     "iopub.status.idle": "2024-11-22T20:39:48.207769Z",
     "shell.execute_reply": "2024-11-22T20:39:48.206924Z"
    },
    "papermill": {
     "duration": 0.013525,
     "end_time": "2024-11-22T20:39:48.209526",
     "exception": false,
     "start_time": "2024-11-22T20:39:48.196001",
     "status": "completed"
    },
    "tags": []
   },
   "outputs": [
    {
     "name": "stdout",
     "output_type": "stream",
     "text": [
      "To effectively address this request, I need the content of the tender documents previously provided.  I cannot access local files or external websites, including the URLs you provided for Siemens.  Please provide the text of the tender specifications.\n",
      "\n",
      "\n",
      "Once you provide the tender requirements, I will proceed with the following steps:\n",
      "\n",
      "**1. Identify Technical Requirements:** I will carefully review the tender documents to extract all the technical requirements specified for each item.  This will include details such as capacity, performance metrics (efficiency, reliability, etc.), materials, safety standards, environmental standards, warranty periods, and any specific features or functionalities.\n",
      "\n",
      "**2. Relevant Siemens and Hitachi Products/Solutions:**  I will then search the provided Siemens website content to find products and solutions that meet each identified technical requirement.  This process will be repeated for Hitachi, one company at a time, and the results will be stored separately.\n",
      "\n",
      "**3. Affinity Score Calculation:** After compiling the lists of matching products, I will calculate an affinity score for each company (Siemens and Hitachi). This will be done as follows:\n",
      "\n",
      "* **Total Number of Requirements:** Count the total number of technical requirements extracted from the tender documents.\n",
      "* **Matching Requirements per Company:** Count how many requirements each company's products/solutions successfully fulfill.\n",
      "* **Affinity Score:** Divide the number of matching requirements for each company by the total number of requirements, and multiply by 100 to express the result as a percentage.  This percentage represents the affinity score.\n",
      "\n",
      "\n",
      "**4. Quick Technical Summary of the Tender:** I will create a concise summary of the tender's technical requirements, highlighting the key aspects and critical specifications.\n",
      "\n",
      "**5. Highest Affinity Score Company Details:**  I will select the company with the highest affinity score and present detailed technical information on the relevant products/solutions. This will include precise technical specifications (where available from the website content), compliance with the tender requirements (based on the matches identified earlier), and clear indication of any non-compliant requirements.  The URL(s) of the specific product pages on the company website will be provided.\n",
      "\n",
      "**6. Other Companies' Affinity Scores:** I will also list the affinity scores calculated for the remaining companies (in this case, only Hitachi's affinity score).\n",
      "\n",
      "\n",
      "Please provide the tender text so I can complete this analysis for you.\n",
      "\n"
     ]
    }
   ],
   "source": [
    "if responses:\n",
    "    print(responses[-1][1])"
   ]
  },
  {
   "cell_type": "code",
   "execution_count": null,
   "id": "67938c63",
   "metadata": {
    "papermill": {
     "duration": 0.006506,
     "end_time": "2024-11-22T20:39:48.222700",
     "exception": false,
     "start_time": "2024-11-22T20:39:48.216194",
     "status": "completed"
    },
    "tags": []
   },
   "outputs": [],
   "source": []
  },
  {
   "cell_type": "code",
   "execution_count": null,
   "id": "b1c6156e",
   "metadata": {
    "papermill": {
     "duration": 0.006785,
     "end_time": "2024-11-22T20:39:48.236123",
     "exception": false,
     "start_time": "2024-11-22T20:39:48.229338",
     "status": "completed"
    },
    "tags": []
   },
   "outputs": [],
   "source": []
  },
  {
   "cell_type": "code",
   "execution_count": null,
   "id": "ac228971",
   "metadata": {
    "papermill": {
     "duration": 0.006754,
     "end_time": "2024-11-22T20:39:48.249452",
     "exception": false,
     "start_time": "2024-11-22T20:39:48.242698",
     "status": "completed"
    },
    "tags": []
   },
   "outputs": [],
   "source": []
  },
  {
   "cell_type": "code",
   "execution_count": null,
   "id": "4fba318f",
   "metadata": {
    "papermill": {
     "duration": 0.006521,
     "end_time": "2024-11-22T20:39:48.262565",
     "exception": false,
     "start_time": "2024-11-22T20:39:48.256044",
     "status": "completed"
    },
    "tags": []
   },
   "outputs": [],
   "source": []
  },
  {
   "cell_type": "code",
   "execution_count": null,
   "id": "12907d95",
   "metadata": {
    "papermill": {
     "duration": 0.006504,
     "end_time": "2024-11-22T20:39:48.275624",
     "exception": false,
     "start_time": "2024-11-22T20:39:48.269120",
     "status": "completed"
    },
    "tags": []
   },
   "outputs": [],
   "source": []
  },
  {
   "cell_type": "code",
   "execution_count": null,
   "id": "0f5c8ad8",
   "metadata": {
    "papermill": {
     "duration": 0.00663,
     "end_time": "2024-11-22T20:39:48.289090",
     "exception": false,
     "start_time": "2024-11-22T20:39:48.282460",
     "status": "completed"
    },
    "tags": []
   },
   "outputs": [],
   "source": []
  },
  {
   "cell_type": "code",
   "execution_count": null,
   "id": "b6078eaa",
   "metadata": {
    "papermill": {
     "duration": 0.006601,
     "end_time": "2024-11-22T20:39:48.302631",
     "exception": false,
     "start_time": "2024-11-22T20:39:48.296030",
     "status": "completed"
    },
    "tags": []
   },
   "outputs": [],
   "source": []
  },
  {
   "cell_type": "code",
   "execution_count": null,
   "id": "95727418",
   "metadata": {
    "papermill": {
     "duration": 0.00679,
     "end_time": "2024-11-22T20:39:48.316013",
     "exception": false,
     "start_time": "2024-11-22T20:39:48.309223",
     "status": "completed"
    },
    "tags": []
   },
   "outputs": [],
   "source": []
  },
  {
   "cell_type": "code",
   "execution_count": null,
   "id": "24c9d17f",
   "metadata": {
    "papermill": {
     "duration": 0.006482,
     "end_time": "2024-11-22T20:39:48.329080",
     "exception": false,
     "start_time": "2024-11-22T20:39:48.322598",
     "status": "completed"
    },
    "tags": []
   },
   "outputs": [],
   "source": []
  },
  {
   "cell_type": "code",
   "execution_count": null,
   "id": "426e0d64",
   "metadata": {
    "papermill": {
     "duration": 0.006511,
     "end_time": "2024-11-22T20:39:48.342231",
     "exception": false,
     "start_time": "2024-11-22T20:39:48.335720",
     "status": "completed"
    },
    "tags": []
   },
   "outputs": [],
   "source": []
  },
  {
   "cell_type": "code",
   "execution_count": null,
   "id": "0faa8710",
   "metadata": {
    "papermill": {
     "duration": 0.006478,
     "end_time": "2024-11-22T20:39:48.355276",
     "exception": false,
     "start_time": "2024-11-22T20:39:48.348798",
     "status": "completed"
    },
    "tags": []
   },
   "outputs": [],
   "source": []
  },
  {
   "cell_type": "code",
   "execution_count": null,
   "id": "057c6658",
   "metadata": {
    "papermill": {
     "duration": 0.006662,
     "end_time": "2024-11-22T20:39:48.368894",
     "exception": false,
     "start_time": "2024-11-22T20:39:48.362232",
     "status": "completed"
    },
    "tags": []
   },
   "outputs": [],
   "source": []
  }
 ],
 "metadata": {
  "kaggle": {
   "accelerator": "gpu",
   "dataSources": [],
   "dockerImageVersionId": 30786,
   "isGpuEnabled": true,
   "isInternetEnabled": true,
   "language": "python",
   "sourceType": "notebook"
  },
  "kernelspec": {
   "display_name": "Python 3",
   "language": "python",
   "name": "python3"
  },
  "language_info": {
   "codemirror_mode": {
    "name": "ipython",
    "version": 3
   },
   "file_extension": ".py",
   "mimetype": "text/x-python",
   "name": "python",
   "nbconvert_exporter": "python",
   "pygments_lexer": "ipython3",
   "version": "3.10.14"
  },
  "papermill": {
   "default_parameters": {},
   "duration": 175.940698,
   "end_time": "2024-11-22T20:39:48.793195",
   "environment_variables": {},
   "exception": null,
   "input_path": "__notebook__.ipynb",
   "output_path": "__notebook__.ipynb",
   "parameters": {},
   "start_time": "2024-11-22T20:36:52.852497",
   "version": "2.6.0"
  }
 },
 "nbformat": 4,
 "nbformat_minor": 5
}
