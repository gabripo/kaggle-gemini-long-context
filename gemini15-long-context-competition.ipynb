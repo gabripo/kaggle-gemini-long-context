{
 "cells": [
  {
   "cell_type": "markdown",
   "id": "a7cf465f",
   "metadata": {
    "papermill": {
     "duration": 0.006428,
     "end_time": "2024-11-22T15:39:19.292549",
     "exception": false,
     "start_time": "2024-11-22T15:39:19.286121",
     "status": "completed"
    },
    "tags": []
   },
   "source": [
    "# Tender2Project\n",
    "The following Kaggle notebook exploits the long context window of Gemini, in order to fulfill the following targets:\n",
    "- Analyze the tender for a project.\n",
    "- Analyze the information about possible products, provided from different companies.\n",
    "- Find the best combination of products to build the project in the tender, identifying the most compliant company as well.\n",
    "\n",
    "## Notebook structure\n",
    "The notebook is composed by different parts, each one with a specific target:\n",
    "- A tender for a project is parsed, such that its information is converted to text.\n",
    "- Information scraped from the websites of different companies is loaded as text.\n",
    "- All the text is forwarded to Gemini, whereas a system prompt and a user prompt are written to explain the purposed o Gemini.\n",
    "\n",
    "## Theoretical aspects\n",
    "The current way to use Gemini makes use of the following properties of a LLM (Large Language Model) like Gemini:\n",
    "|  **LLM property** | **Where it is used** | **How it is used** |\n",
    "|:-----------------:|:--------------------:|:------------------:|\n",
    "|     Reasoning     |          TBD         |         TBD        |\n",
    "|       Memory      |          TBD         |         TBD        |\n",
    "| Chain of Thoughts |          TBD         |         TBD        |\n",
    "|                   |                      |                    |"
   ]
  },
  {
   "cell_type": "markdown",
   "id": "20bf3b8c",
   "metadata": {
    "papermill": {
     "duration": 0.005411,
     "end_time": "2024-11-22T15:39:19.304764",
     "exception": false,
     "start_time": "2024-11-22T15:39:19.299353",
     "status": "completed"
    },
    "tags": []
   },
   "source": [
    "Clean the working directory"
   ]
  },
  {
   "cell_type": "code",
   "execution_count": 1,
   "id": "b04a60f3",
   "metadata": {
    "execution": {
     "iopub.execute_input": "2024-11-22T15:39:19.317685Z",
     "iopub.status.busy": "2024-11-22T15:39:19.317344Z",
     "iopub.status.idle": "2024-11-22T15:39:20.327379Z",
     "shell.execute_reply": "2024-11-22T15:39:20.326288Z"
    },
    "papermill": {
     "duration": 1.018993,
     "end_time": "2024-11-22T15:39:20.329451",
     "exception": false,
     "start_time": "2024-11-22T15:39:19.310458",
     "status": "completed"
    },
    "tags": []
   },
   "outputs": [],
   "source": [
    "! rm -r /kaggle/working/*"
   ]
  },
  {
   "cell_type": "markdown",
   "id": "d06ad33d",
   "metadata": {
    "papermill": {
     "duration": 0.005668,
     "end_time": "2024-11-22T15:39:20.340962",
     "exception": false,
     "start_time": "2024-11-22T15:39:20.335294",
     "status": "completed"
    },
    "tags": []
   },
   "source": [
    "# Analyze the tenders"
   ]
  },
  {
   "cell_type": "markdown",
   "id": "3879f79d",
   "metadata": {
    "papermill": {
     "duration": 0.005387,
     "end_time": "2024-11-22T15:39:20.351880",
     "exception": false,
     "start_time": "2024-11-22T15:39:20.346493",
     "status": "completed"
    },
    "tags": []
   },
   "source": [
    "Locate the tenders - in PDF format."
   ]
  },
  {
   "cell_type": "code",
   "execution_count": 2,
   "id": "e73b1f44",
   "metadata": {
    "execution": {
     "iopub.execute_input": "2024-11-22T15:39:20.364796Z",
     "iopub.status.busy": "2024-11-22T15:39:20.364498Z",
     "iopub.status.idle": "2024-11-22T15:39:21.649334Z",
     "shell.execute_reply": "2024-11-22T15:39:21.648471Z"
    },
    "papermill": {
     "duration": 1.293747,
     "end_time": "2024-11-22T15:39:21.651134",
     "exception": false,
     "start_time": "2024-11-22T15:39:20.357387",
     "status": "completed"
    },
    "tags": []
   },
   "outputs": [
    {
     "name": "stdout",
     "output_type": "stream",
     "text": [
      "--2024-11-22 15:39:21--  https://raw.githubusercontent.com/gabripo/kaggle-gemini-long-context/refs/heads/main/github_downloader.py\r\n",
      "Resolving raw.githubusercontent.com (raw.githubusercontent.com)... 185.199.109.133, 185.199.108.133, 185.199.110.133, ...\r\n",
      "Connecting to raw.githubusercontent.com (raw.githubusercontent.com)|185.199.109.133|:443... connected.\r\n",
      "HTTP request sent, awaiting response... 200 OK\r\n",
      "Length: 1722 (1.7K) [text/plain]\r\n",
      "Saving to: '/kaggle/working/scripts/github_downloader.py'\r\n",
      "\r\n",
      "github_downloader.p 100%[===================>]   1.68K  --.-KB/s    in 0s      \r\n",
      "\r\n",
      "2024-11-22 15:39:21 (26.0 MB/s) - '/kaggle/working/scripts/github_downloader.py' saved [1722/1722]\r\n",
      "\r\n"
     ]
    }
   ],
   "source": [
    "# fetch the script to download content from GitHub\n",
    "!wget https://raw.githubusercontent.com/gabripo/kaggle-gemini-long-context/refs/heads/main/github_downloader.py -P /kaggle/working/scripts\n",
    "\n",
    "# add downloaded script to the Python path\n",
    "import sys\n",
    "sys.path.append('/kaggle/working/scripts')"
   ]
  },
  {
   "cell_type": "code",
   "execution_count": 3,
   "id": "7b6a4806",
   "metadata": {
    "execution": {
     "iopub.execute_input": "2024-11-22T15:39:21.664057Z",
     "iopub.status.busy": "2024-11-22T15:39:21.663769Z",
     "iopub.status.idle": "2024-11-22T15:39:22.028403Z",
     "shell.execute_reply": "2024-11-22T15:39:22.027553Z"
    },
    "papermill": {
     "duration": 0.373194,
     "end_time": "2024-11-22T15:39:22.030315",
     "exception": false,
     "start_time": "2024-11-22T15:39:21.657121",
     "status": "completed"
    },
    "tags": []
   },
   "outputs": [
    {
     "name": "stdout",
     "output_type": "stream",
     "text": [
      "Downloading tender_solar.pdf...\n",
      "/kaggle/working/tenders/tender_solar.pdf downloaded successfully.\n",
      "Downloading tender_wind.pdf...\n",
      "/kaggle/working/tenders/tender_wind.pdf downloaded successfully.\n",
      "All files downloaded.\n"
     ]
    }
   ],
   "source": [
    "import github_downloader\n",
    "\n",
    "github_downloader.download_files_from_github_repo(folderName=\"tenders\", saveFolder=\"/kaggle/working/tenders\", extension=\"pdf\")"
   ]
  },
  {
   "cell_type": "code",
   "execution_count": 4,
   "id": "c60041a0",
   "metadata": {
    "execution": {
     "iopub.execute_input": "2024-11-22T15:39:22.043250Z",
     "iopub.status.busy": "2024-11-22T15:39:22.042972Z",
     "iopub.status.idle": "2024-11-22T15:39:22.047663Z",
     "shell.execute_reply": "2024-11-22T15:39:22.046878Z"
    },
    "papermill": {
     "duration": 0.013103,
     "end_time": "2024-11-22T15:39:22.049411",
     "exception": false,
     "start_time": "2024-11-22T15:39:22.036308",
     "status": "completed"
    },
    "tags": []
   },
   "outputs": [
    {
     "name": "stdout",
     "output_type": "stream",
     "text": [
      "The folder /kaggle/working/tenders will be considered as containing the tenders\n"
     ]
    }
   ],
   "source": [
    "import os\n",
    "\n",
    "# if the PDF file is given as Kaggle Input (for example, manually uploaded), change the use_kaggle_input to True\n",
    "use_kaggle_input_tender = False if os.path.exists('/kaggle/working/tenders') else True\n",
    "if use_kaggle_input_tender:\n",
    "    tenders_file_path = '/kaggle/input/tenders'\n",
    "else:\n",
    "    tenders_file_path = '/kaggle/working/tenders'\n",
    "\n",
    "print(f\"The folder {tenders_file_path} will be considered as containing the tenders\")"
   ]
  },
  {
   "cell_type": "markdown",
   "id": "e8ccb8e6",
   "metadata": {
    "papermill": {
     "duration": 0.005682,
     "end_time": "2024-11-22T15:39:22.061002",
     "exception": false,
     "start_time": "2024-11-22T15:39:22.055320",
     "status": "completed"
    },
    "tags": []
   },
   "source": [
    "Installing required Python packages to analyze the tender - in PDF format."
   ]
  },
  {
   "cell_type": "code",
   "execution_count": 5,
   "id": "2ffcb115",
   "metadata": {
    "execution": {
     "iopub.execute_input": "2024-11-22T15:39:22.073353Z",
     "iopub.status.busy": "2024-11-22T15:39:22.073114Z",
     "iopub.status.idle": "2024-11-22T15:39:31.842816Z",
     "shell.execute_reply": "2024-11-22T15:39:31.841696Z"
    },
    "papermill": {
     "duration": 9.778425,
     "end_time": "2024-11-22T15:39:31.845088",
     "exception": false,
     "start_time": "2024-11-22T15:39:22.066663",
     "status": "completed"
    },
    "tags": []
   },
   "outputs": [
    {
     "name": "stdout",
     "output_type": "stream",
     "text": [
      "Collecting PyPDF2\r\n",
      "  Downloading pypdf2-3.0.1-py3-none-any.whl.metadata (6.8 kB)\r\n",
      "Downloading pypdf2-3.0.1-py3-none-any.whl (232 kB)\r\n",
      "\u001b[2K   \u001b[90m━━━━━━━━━━━━━━━━━━━━━━━━━━━━━━━━━━━━━━━━\u001b[0m \u001b[32m232.6/232.6 kB\u001b[0m \u001b[31m12.6 MB/s\u001b[0m eta \u001b[36m0:00:00\u001b[0m\r\n",
      "\u001b[?25hInstalling collected packages: PyPDF2\r\n",
      "Successfully installed PyPDF2-3.0.1\r\n"
     ]
    }
   ],
   "source": [
    "!pip install PyPDF2"
   ]
  },
  {
   "cell_type": "markdown",
   "id": "6f66a5b3",
   "metadata": {
    "papermill": {
     "duration": 0.006086,
     "end_time": "2024-11-22T15:39:31.857865",
     "exception": false,
     "start_time": "2024-11-22T15:39:31.851779",
     "status": "completed"
    },
    "tags": []
   },
   "source": [
    "Extract information from the tenders.\n",
    "The output will be a text."
   ]
  },
  {
   "cell_type": "code",
   "execution_count": 6,
   "id": "4979b01b",
   "metadata": {
    "execution": {
     "iopub.execute_input": "2024-11-22T15:39:31.872156Z",
     "iopub.status.busy": "2024-11-22T15:39:31.871459Z",
     "iopub.status.idle": "2024-11-22T15:39:33.370082Z",
     "shell.execute_reply": "2024-11-22T15:39:33.369136Z"
    },
    "papermill": {
     "duration": 1.507967,
     "end_time": "2024-11-22T15:39:33.372082",
     "exception": false,
     "start_time": "2024-11-22T15:39:31.864115",
     "status": "completed"
    },
    "tags": []
   },
   "outputs": [
    {
     "name": "stdout",
     "output_type": "stream",
     "text": [
      "Reading the tender tender_wind.pdf ...\n",
      "Reading the tender tender_solar.pdf ...\n"
     ]
    }
   ],
   "source": [
    "import os\n",
    "from PyPDF2 import PdfReader\n",
    "\n",
    "tenders = [t for t in os.listdir(tenders_file_path) if t.endswith(\".pdf\")]\n",
    "tenders_info = {}\n",
    "for tender in tenders:\n",
    "    print(f\"Reading the tender {tender} ...\")\n",
    "    reader = PdfReader(os.path.join(tenders_file_path, tender))\n",
    "\n",
    "    tenders_info[tender] = {}\n",
    "    tenders_info[tender][\"name\"] = tender\n",
    "    tenders_info[tender][\"content\"] = [page.extract_text() for page in reader.pages]\n",
    "\n",
    "# temporary, considering the very first tender, only\n",
    "tender_info = \"\".join(tenders_info[tenders[0]].get(\"content\", {}))"
   ]
  },
  {
   "cell_type": "markdown",
   "id": "64248728",
   "metadata": {
    "papermill": {
     "duration": 0.006036,
     "end_time": "2024-11-22T15:39:33.384727",
     "exception": false,
     "start_time": "2024-11-22T15:39:33.378691",
     "status": "completed"
    },
    "tags": []
   },
   "source": [
    "# Fetch information about companies"
   ]
  },
  {
   "cell_type": "markdown",
   "id": "3f7375a2",
   "metadata": {
    "papermill": {
     "duration": 0.006166,
     "end_time": "2024-11-22T15:39:33.397073",
     "exception": false,
     "start_time": "2024-11-22T15:39:33.390907",
     "status": "completed"
    },
    "tags": []
   },
   "source": [
    "## Overview\n",
    "Information about interesting companies is obtained from their websites.\n",
    "\n",
    "To generate data out of the companies' websites, we implemented a crawler.\n",
    "The final output of the crawler is a JSON file, in which each field refers to a company: for each company, all the information of the websites is merged.\n",
    "\n",
    "> To make things easier, the mentioned JSON file will be fetched from a Git repository where the crawling function has already been executed.\n",
    "\n",
    "## Details about the crawling process:\n",
    "- **Recursive scan**: after a webpage is scanned and its content is stored, eventual found sublinks are scanned, as well. A limit of the wepages to download is given as input.\n",
    "- **Redundant information is deleted**: if some website content can be found multiple times in all the webpages of one company, then it is skipped. *Example*: undesired and redundant lines like \"Contact Us\" are removed, ensuring that the final content does not include unnecessary sentences.\n",
    "- **Caching of already downloaded pages**: for each webpage, the content is stored in a JSON file, as well as the found sublinks. *Example*: after a run with a limit of N pages, other runs with less than N pages will use the stored files instead downloading data from internet; at the contrary, if the limit is increased to M > N pages, only M - N additional pages will be downloaded while the first N pages will be taken from the stored file."
   ]
  },
  {
   "cell_type": "markdown",
   "id": "26cb5b95",
   "metadata": {
    "papermill": {
     "duration": 0.005877,
     "end_time": "2024-11-22T15:39:33.409098",
     "exception": false,
     "start_time": "2024-11-22T15:39:33.403221",
     "status": "completed"
    },
    "tags": []
   },
   "source": [
    "## Load the results from the crawler's repo"
   ]
  },
  {
   "cell_type": "code",
   "execution_count": 7,
   "id": "a8398fc1",
   "metadata": {
    "execution": {
     "iopub.execute_input": "2024-11-22T15:39:33.423035Z",
     "iopub.status.busy": "2024-11-22T15:39:33.422690Z",
     "iopub.status.idle": "2024-11-22T15:39:33.732515Z",
     "shell.execute_reply": "2024-11-22T15:39:33.731578Z"
    },
    "papermill": {
     "duration": 0.31897,
     "end_time": "2024-11-22T15:39:33.734360",
     "exception": false,
     "start_time": "2024-11-22T15:39:33.415390",
     "status": "completed"
    },
    "tags": []
   },
   "outputs": [
    {
     "name": "stdout",
     "output_type": "stream",
     "text": [
      "Downloading companies_info.json...\n",
      "/kaggle/working/companies_info/companies_info.json downloaded successfully.\n",
      "All files downloaded.\n"
     ]
    }
   ],
   "source": [
    "github_downloader.download_files_from_github_repo(folderName=\"\", saveFolder=\"/kaggle/working/companies_info\", extension=\"json\")"
   ]
  },
  {
   "cell_type": "markdown",
   "id": "b9901b19",
   "metadata": {
    "papermill": {
     "duration": 0.005992,
     "end_time": "2024-11-22T15:39:33.747010",
     "exception": false,
     "start_time": "2024-11-22T15:39:33.741018",
     "status": "completed"
    },
    "tags": []
   },
   "source": [
    "Locate the JSON file containing the companies' information."
   ]
  },
  {
   "cell_type": "code",
   "execution_count": 8,
   "id": "c2a51f51",
   "metadata": {
    "execution": {
     "iopub.execute_input": "2024-11-22T15:39:33.760358Z",
     "iopub.status.busy": "2024-11-22T15:39:33.760090Z",
     "iopub.status.idle": "2024-11-22T15:39:33.765414Z",
     "shell.execute_reply": "2024-11-22T15:39:33.764550Z"
    },
    "papermill": {
     "duration": 0.014092,
     "end_time": "2024-11-22T15:39:33.767177",
     "exception": false,
     "start_time": "2024-11-22T15:39:33.753085",
     "status": "completed"
    },
    "tags": []
   },
   "outputs": [
    {
     "name": "stdout",
     "output_type": "stream",
     "text": [
      "The file /kaggle/working/companies_info/companies_info.json will be used for the information regarding the companies\n"
     ]
    }
   ],
   "source": [
    "import os\n",
    "\n",
    "# if the JSON file is given as Kaggle Input (for example, manually uploaded), change the use_kaggle_input to True\n",
    "use_kaggle_input_companies = False if os.path.exists('/kaggle/working/companies_info') else True\n",
    "companies_json_name = 'companies_info.json'\n",
    "if use_kaggle_input_companies:\n",
    "    companies_info_file_path = os.path.join('/kaggle/input/companies-info', companies_json_name)\n",
    "else:\n",
    "    companies_info_file_path = os.path.join('/kaggle/working/companies_info', companies_json_name)\n",
    "\n",
    "print(f\"The file {companies_info_file_path} will be used for the information regarding the companies\")"
   ]
  },
  {
   "cell_type": "markdown",
   "id": "5bc9ad95",
   "metadata": {
    "papermill": {
     "duration": 0.006099,
     "end_time": "2024-11-22T15:39:33.779560",
     "exception": false,
     "start_time": "2024-11-22T15:39:33.773461",
     "status": "completed"
    },
    "tags": []
   },
   "source": [
    "Define a small function to read the information about the companies - in JSON format."
   ]
  },
  {
   "cell_type": "code",
   "execution_count": 9,
   "id": "bf1af394",
   "metadata": {
    "execution": {
     "iopub.execute_input": "2024-11-22T15:39:33.793066Z",
     "iopub.status.busy": "2024-11-22T15:39:33.792749Z",
     "iopub.status.idle": "2024-11-22T15:39:33.797368Z",
     "shell.execute_reply": "2024-11-22T15:39:33.796523Z"
    },
    "papermill": {
     "duration": 0.01334,
     "end_time": "2024-11-22T15:39:33.799078",
     "exception": false,
     "start_time": "2024-11-22T15:39:33.785738",
     "status": "completed"
    },
    "tags": []
   },
   "outputs": [],
   "source": [
    "import json\n",
    "\n",
    "def read_companies_info(jsonFilePath: str) -> dict:\n",
    "    if os.path.exists(jsonFilePath):\n",
    "        with open(jsonFilePath, \"r\") as f:\n",
    "            data = json.load(f)\n",
    "        return data\n",
    "    else:\n",
    "        return {}"
   ]
  },
  {
   "cell_type": "markdown",
   "id": "8469589b",
   "metadata": {
    "papermill": {
     "duration": 0.00597,
     "end_time": "2024-11-22T15:39:33.811839",
     "exception": false,
     "start_time": "2024-11-22T15:39:33.805869",
     "status": "completed"
    },
    "tags": []
   },
   "source": [
    "Load the companies' information by using the defined function."
   ]
  },
  {
   "cell_type": "code",
   "execution_count": 10,
   "id": "6a549db6",
   "metadata": {
    "execution": {
     "iopub.execute_input": "2024-11-22T15:39:33.825231Z",
     "iopub.status.busy": "2024-11-22T15:39:33.824961Z",
     "iopub.status.idle": "2024-11-22T15:39:33.883316Z",
     "shell.execute_reply": "2024-11-22T15:39:33.882355Z"
    },
    "papermill": {
     "duration": 0.067363,
     "end_time": "2024-11-22T15:39:33.885350",
     "exception": false,
     "start_time": "2024-11-22T15:39:33.817987",
     "status": "completed"
    },
    "tags": []
   },
   "outputs": [],
   "source": [
    "companies_info = read_companies_info(companies_info_file_path)\n",
    "\n",
    "# companies_info is a dictionary, where the key is the name of the company and the related value its information\n",
    "# print(companies_info[\"SIEMENS\"]) "
   ]
  },
  {
   "cell_type": "markdown",
   "id": "122019ff",
   "metadata": {
    "papermill": {
     "duration": 0.006148,
     "end_time": "2024-11-22T15:39:33.898232",
     "exception": false,
     "start_time": "2024-11-22T15:39:33.892084",
     "status": "completed"
    },
    "tags": []
   },
   "source": [
    "# Chat with Gemini"
   ]
  },
  {
   "cell_type": "code",
   "execution_count": 11,
   "id": "b4cc371b",
   "metadata": {
    "execution": {
     "iopub.execute_input": "2024-11-22T15:39:33.912346Z",
     "iopub.status.busy": "2024-11-22T15:39:33.912035Z",
     "iopub.status.idle": "2024-11-22T15:39:35.201831Z",
     "shell.execute_reply": "2024-11-22T15:39:35.200918Z"
    },
    "papermill": {
     "duration": 1.299792,
     "end_time": "2024-11-22T15:39:35.204422",
     "exception": false,
     "start_time": "2024-11-22T15:39:33.904630",
     "status": "completed"
    },
    "tags": []
   },
   "outputs": [],
   "source": [
    "# API key got here: https://ai.google.dev/tutorials/setup\n",
    "\n",
    "import google.generativeai as genai\n",
    "from kaggle_secrets import UserSecretsClient\n",
    "\n",
    "\n",
    "user_secrets = UserSecretsClient()\n",
    "secret_key = user_secrets.get_secret(\"GEMINI_API_KEY\")\n",
    "\n",
    "genai.configure(api_key = secret_key)\n",
    "\n",
    "model = genai.GenerativeModel(model_name='gemini-1.5-pro-latest')\n",
    "\n",
    "chat = model.start_chat()\n",
    "\n",
    "# example how to send prompts\n",
    "# response = chat.send_message('Hi! What about competing on Kaggle?')\n",
    "# print(response.text)"
   ]
  },
  {
   "cell_type": "markdown",
   "id": "33220abf",
   "metadata": {
    "papermill": {
     "duration": 0.006763,
     "end_time": "2024-11-22T15:39:35.223470",
     "exception": false,
     "start_time": "2024-11-22T15:39:35.216707",
     "status": "completed"
    },
    "tags": []
   },
   "source": [
    "## Define the system and user prompts"
   ]
  },
  {
   "cell_type": "code",
   "execution_count": 12,
   "id": "f6f5ba16",
   "metadata": {
    "execution": {
     "iopub.execute_input": "2024-11-22T15:39:35.238373Z",
     "iopub.status.busy": "2024-11-22T15:39:35.237319Z",
     "iopub.status.idle": "2024-11-22T15:39:35.242151Z",
     "shell.execute_reply": "2024-11-22T15:39:35.241351Z"
    },
    "papermill": {
     "duration": 0.014016,
     "end_time": "2024-11-22T15:39:35.243814",
     "exception": false,
     "start_time": "2024-11-22T15:39:35.229798",
     "status": "completed"
    },
    "tags": []
   },
   "outputs": [],
   "source": [
    "system_prompt = \"You are an experienced technical sales manager. You are given the content of websites of companies with their portfolio for products and solutions. Use the content of the websites to provide detailed technical answers based on tender requirements and user prompt.\"\n",
    "# print(f\"The system prompt is:\\n{system_prompt}\")"
   ]
  },
  {
   "cell_type": "code",
   "execution_count": 13,
   "id": "2592faa7",
   "metadata": {
    "execution": {
     "iopub.execute_input": "2024-11-22T15:39:35.258404Z",
     "iopub.status.busy": "2024-11-22T15:39:35.257689Z",
     "iopub.status.idle": "2024-11-22T15:39:35.276674Z",
     "shell.execute_reply": "2024-11-22T15:39:35.275467Z"
    },
    "papermill": {
     "duration": 0.028745,
     "end_time": "2024-11-22T15:39:35.278968",
     "exception": false,
     "start_time": "2024-11-22T15:39:35.250223",
     "status": "completed"
    },
    "tags": []
   },
   "outputs": [],
   "source": [
    "user_prompt = f\"\"\"\n",
    "\n",
    "I want to build the whole plant as per tender technical requirements {tender_info}.\n",
    "\n",
    "1. Analyse and identify all the technical requirements in the tender.\n",
    "\n",
    "2. For company [SIEMENS] and [HITACHI], find the respective relevant products and solutions with respect to point 1. Do this one company at a time and store the results.\n",
    "\n",
    "3. Calculate an affinity score in % of company [SIEMENS] and [HITACHI] based on the match of results in point 2.\n",
    "\n",
    "SIEMENS: {companies_info[\"SIEMENS\"]}\n",
    "HITACHI: {companies_info[\"HITACHI\"]}\n",
    "\n",
    "4. Return a quick technical summary of the tender.\n",
    "\n",
    "5. Return the technical details of the company with the highest affinity score and its score. Focus on the technical specifications mentioning the compliances with the tender. Report also the URL of the source where you found the informations and mention if there is some non compliant requirements from tender.\n",
    "\n",
    "6. Return also the other affinity scores alone of the other companies. \n",
    "\n",
    "\"\"\"\n",
    "\n",
    "# print(f\"The user prompt is:\\n{user_prompt}\")"
   ]
  },
  {
   "cell_type": "markdown",
   "id": "aeae98f6",
   "metadata": {
    "papermill": {
     "duration": 0.006259,
     "end_time": "2024-11-22T15:39:35.292529",
     "exception": false,
     "start_time": "2024-11-22T15:39:35.286270",
     "status": "completed"
    },
    "tags": []
   },
   "source": [
    "## Check how many tokens are needed to process the prompts"
   ]
  },
  {
   "cell_type": "code",
   "execution_count": 14,
   "id": "4b00ccc2",
   "metadata": {
    "execution": {
     "iopub.execute_input": "2024-11-22T15:39:35.306484Z",
     "iopub.status.busy": "2024-11-22T15:39:35.306192Z",
     "iopub.status.idle": "2024-11-22T15:39:35.352058Z",
     "shell.execute_reply": "2024-11-22T15:39:35.351113Z"
    },
    "papermill": {
     "duration": 0.055102,
     "end_time": "2024-11-22T15:39:35.353983",
     "exception": false,
     "start_time": "2024-11-22T15:39:35.298881",
     "status": "completed"
    },
    "tags": []
   },
   "outputs": [
    {
     "name": "stdout",
     "output_type": "stream",
     "text": [
      "Number of tokens (words): 420633\n"
     ]
    }
   ],
   "source": [
    "# Split the prompt into words (tokens)\n",
    "tokens = user_prompt.split()\n",
    "\n",
    "# Count the number of tokens\n",
    "num_tokens = len(tokens)\n",
    "print(f\"Number of tokens (words): {num_tokens}\")"
   ]
  },
  {
   "cell_type": "markdown",
   "id": "0bebf84d",
   "metadata": {
    "papermill": {
     "duration": 0.006314,
     "end_time": "2024-11-22T15:39:35.367045",
     "exception": false,
     "start_time": "2024-11-22T15:39:35.360731",
     "status": "completed"
    },
    "tags": []
   },
   "source": [
    "## Generate a response"
   ]
  },
  {
   "cell_type": "code",
   "execution_count": 15,
   "id": "3e67cf4e",
   "metadata": {
    "execution": {
     "iopub.execute_input": "2024-11-22T15:39:35.390666Z",
     "iopub.status.busy": "2024-11-22T15:39:35.390342Z",
     "iopub.status.idle": "2024-11-22T15:39:35.395552Z",
     "shell.execute_reply": "2024-11-22T15:39:35.395062Z"
    },
    "papermill": {
     "duration": 0.020242,
     "end_time": "2024-11-22T15:39:35.397394",
     "exception": false,
     "start_time": "2024-11-22T15:39:35.377152",
     "status": "completed"
    },
    "tags": []
   },
   "outputs": [],
   "source": [
    "want_a_response = False # disable if willing to save a notebook but the Gemini quota has been exhausted\n",
    "\n",
    "if want_a_response:\n",
    "    response = chat.send_message(system_prompt + user_prompt)\n",
    "    print(response.text)"
   ]
  },
  {
   "cell_type": "markdown",
   "id": "e388a135",
   "metadata": {
    "papermill": {
     "duration": 0.010313,
     "end_time": "2024-11-22T15:39:35.418211",
     "exception": false,
     "start_time": "2024-11-22T15:39:35.407898",
     "status": "completed"
    },
    "tags": []
   },
   "source": [
    "## Check how many tokens have been used so far"
   ]
  },
  {
   "cell_type": "code",
   "execution_count": 16,
   "id": "082a6c6e",
   "metadata": {
    "execution": {
     "iopub.execute_input": "2024-11-22T15:39:35.436707Z",
     "iopub.status.busy": "2024-11-22T15:39:35.436417Z",
     "iopub.status.idle": "2024-11-22T15:39:35.440443Z",
     "shell.execute_reply": "2024-11-22T15:39:35.439623Z"
    },
    "papermill": {
     "duration": 0.015024,
     "end_time": "2024-11-22T15:39:35.442653",
     "exception": false,
     "start_time": "2024-11-22T15:39:35.427629",
     "status": "completed"
    },
    "tags": []
   },
   "outputs": [],
   "source": [
    "if want_a_response:\n",
    "    usage_metadata = response.usage_metadata\n",
    "    print(f\"Token count: {usage_metadata.total_token_count}\")"
   ]
  },
  {
   "cell_type": "code",
   "execution_count": null,
   "id": "4a73bd68",
   "metadata": {
    "papermill": {
     "duration": 0.007738,
     "end_time": "2024-11-22T15:39:35.461270",
     "exception": false,
     "start_time": "2024-11-22T15:39:35.453532",
     "status": "completed"
    },
    "tags": []
   },
   "outputs": [],
   "source": []
  },
  {
   "cell_type": "code",
   "execution_count": null,
   "id": "9c575525",
   "metadata": {
    "papermill": {
     "duration": 0.006163,
     "end_time": "2024-11-22T15:39:35.473919",
     "exception": false,
     "start_time": "2024-11-22T15:39:35.467756",
     "status": "completed"
    },
    "tags": []
   },
   "outputs": [],
   "source": []
  },
  {
   "cell_type": "code",
   "execution_count": null,
   "id": "7700bc34",
   "metadata": {
    "papermill": {
     "duration": 0.006057,
     "end_time": "2024-11-22T15:39:35.486362",
     "exception": false,
     "start_time": "2024-11-22T15:39:35.480305",
     "status": "completed"
    },
    "tags": []
   },
   "outputs": [],
   "source": []
  },
  {
   "cell_type": "code",
   "execution_count": null,
   "id": "d8d62d98",
   "metadata": {
    "papermill": {
     "duration": 0.005971,
     "end_time": "2024-11-22T15:39:35.498529",
     "exception": false,
     "start_time": "2024-11-22T15:39:35.492558",
     "status": "completed"
    },
    "tags": []
   },
   "outputs": [],
   "source": []
  },
  {
   "cell_type": "code",
   "execution_count": null,
   "id": "b5efa042",
   "metadata": {
    "papermill": {
     "duration": 0.005987,
     "end_time": "2024-11-22T15:39:35.510762",
     "exception": false,
     "start_time": "2024-11-22T15:39:35.504775",
     "status": "completed"
    },
    "tags": []
   },
   "outputs": [],
   "source": []
  },
  {
   "cell_type": "code",
   "execution_count": null,
   "id": "b1fa7a58",
   "metadata": {
    "papermill": {
     "duration": 0.005976,
     "end_time": "2024-11-22T15:39:35.522968",
     "exception": false,
     "start_time": "2024-11-22T15:39:35.516992",
     "status": "completed"
    },
    "tags": []
   },
   "outputs": [],
   "source": []
  },
  {
   "cell_type": "code",
   "execution_count": null,
   "id": "c27cadf9",
   "metadata": {
    "papermill": {
     "duration": 0.006319,
     "end_time": "2024-11-22T15:39:35.535452",
     "exception": false,
     "start_time": "2024-11-22T15:39:35.529133",
     "status": "completed"
    },
    "tags": []
   },
   "outputs": [],
   "source": []
  },
  {
   "cell_type": "code",
   "execution_count": null,
   "id": "d4ba2ce6",
   "metadata": {
    "papermill": {
     "duration": 0.005979,
     "end_time": "2024-11-22T15:39:35.547769",
     "exception": false,
     "start_time": "2024-11-22T15:39:35.541790",
     "status": "completed"
    },
    "tags": []
   },
   "outputs": [],
   "source": []
  },
  {
   "cell_type": "code",
   "execution_count": null,
   "id": "32e8550c",
   "metadata": {
    "papermill": {
     "duration": 0.005945,
     "end_time": "2024-11-22T15:39:35.560029",
     "exception": false,
     "start_time": "2024-11-22T15:39:35.554084",
     "status": "completed"
    },
    "tags": []
   },
   "outputs": [],
   "source": []
  },
  {
   "cell_type": "code",
   "execution_count": null,
   "id": "91101f18",
   "metadata": {
    "papermill": {
     "duration": 0.005964,
     "end_time": "2024-11-22T15:39:35.572320",
     "exception": false,
     "start_time": "2024-11-22T15:39:35.566356",
     "status": "completed"
    },
    "tags": []
   },
   "outputs": [],
   "source": []
  },
  {
   "cell_type": "code",
   "execution_count": null,
   "id": "5233c31b",
   "metadata": {
    "papermill": {
     "duration": 0.006067,
     "end_time": "2024-11-22T15:39:35.584580",
     "exception": false,
     "start_time": "2024-11-22T15:39:35.578513",
     "status": "completed"
    },
    "tags": []
   },
   "outputs": [],
   "source": []
  },
  {
   "cell_type": "code",
   "execution_count": null,
   "id": "b3cd7d8e",
   "metadata": {
    "papermill": {
     "duration": 0.005944,
     "end_time": "2024-11-22T15:39:35.596853",
     "exception": false,
     "start_time": "2024-11-22T15:39:35.590909",
     "status": "completed"
    },
    "tags": []
   },
   "outputs": [],
   "source": []
  },
  {
   "cell_type": "code",
   "execution_count": null,
   "id": "455d50c3",
   "metadata": {
    "papermill": {
     "duration": 0.005905,
     "end_time": "2024-11-22T15:39:35.608987",
     "exception": false,
     "start_time": "2024-11-22T15:39:35.603082",
     "status": "completed"
    },
    "tags": []
   },
   "outputs": [],
   "source": []
  }
 ],
 "metadata": {
  "kaggle": {
   "accelerator": "gpu",
   "dataSources": [],
   "dockerImageVersionId": 30786,
   "isGpuEnabled": true,
   "isInternetEnabled": true,
   "language": "python",
   "sourceType": "notebook"
  },
  "kernelspec": {
   "display_name": "Python 3",
   "language": "python",
   "name": "python3"
  },
  "language_info": {
   "codemirror_mode": {
    "name": "ipython",
    "version": 3
   },
   "file_extension": ".py",
   "mimetype": "text/x-python",
   "name": "python",
   "nbconvert_exporter": "python",
   "pygments_lexer": "ipython3",
   "version": "3.10.14"
  },
  "papermill": {
   "default_parameters": {},
   "duration": 19.337703,
   "end_time": "2024-11-22T15:39:36.033861",
   "environment_variables": {},
   "exception": null,
   "input_path": "__notebook__.ipynb",
   "output_path": "__notebook__.ipynb",
   "parameters": {},
   "start_time": "2024-11-22T15:39:16.696158",
   "version": "2.6.0"
  }
 },
 "nbformat": 4,
 "nbformat_minor": 5
}
